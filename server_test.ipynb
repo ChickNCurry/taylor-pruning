{
 "cells": [
  {
   "cell_type": "code",
   "execution_count": null,
   "id": "68e44cdf-8743-4dc4-8ad0-77ec15525b3a",
   "metadata": {},
   "outputs": [],
   "source": [
    "!pip install flask"
   ]
  },
  {
   "cell_type": "code",
   "execution_count": 1,
   "id": "5c268b18-e1cc-44e8-8d29-2b8f99ead6f9",
   "metadata": {},
   "outputs": [],
   "source": [
    "import cam_server"
   ]
  },
  {
   "cell_type": "code",
   "execution_count": null,
   "id": "0312bed5-384b-4d11-ab1f-e049982de69c",
   "metadata": {},
   "outputs": [
    {
     "name": "stdout",
     "output_type": "stream",
     "text": [
      "model loaded\n",
      "Initializing camera...\n"
     ]
    },
    {
     "data": {
      "application/vnd.jupyter.widget-view+json": {
       "model_id": "2a989d665466409f88c910db4c10b18f",
       "version_major": 2,
       "version_minor": 0
      },
      "text/plain": [
       "Image(value=b'\\xff\\xd8\\xff\\xe0\\x00\\x10JFIF\\x00\\x01\\x01\\x00\\x00\\x01\\x00\\x01\\x00\\x00\\xff\\xdb\\x00C\\x00\\x02\\x01\\x0…"
      ]
     },
     "metadata": {},
     "output_type": "display_data"
    },
    {
     "name": "stdout",
     "output_type": "stream",
     "text": [
      "camera started\n",
      " * Serving Flask app '' (lazy loading)\n",
      " * Environment: production\n",
      "\u001b[31m   WARNING: This is a development server. Do not use it in a production deployment.\u001b[0m\n",
      "\u001b[2m   Use a production WSGI server instead.\u001b[0m\n",
      " * Debug mode: off\n"
     ]
    },
    {
     "name": "stderr",
     "output_type": "stream",
     "text": [
      " * Running on all addresses.\n",
      "   WARNING: This is a development server. Do not use it in a production deployment.\n",
      " * Running on http://10.172.219.44:5000/ (Press CTRL+C to quit)\n",
      "192.168.55.100 - - [17/Jul/2024 10:14:21] \"GET / HTTP/1.1\" 200 -\n",
      "192.168.55.100 - - [17/Jul/2024 10:14:22] \"\u001b[33mGET /favicon.ico HTTP/1.1\u001b[0m\" 404 -\n",
      "192.168.55.100 - - [17/Jul/2024 10:14:25] \"GET /video_feed HTTP/1.1\" 200 -\n",
      "Exception in thread Thread-4:\n",
      "Traceback (most recent call last):\n",
      "  File \"/usr/lib/python3.6/threading.py\", line 916, in _bootstrap_inner\n",
      "    self.run()\n",
      "  File \"/usr/lib/python3.6/threading.py\", line 864, in run\n",
      "    self._target(*self._args, **self._kwargs)\n",
      "  File \"/home/jetson/embedded-ml-lab-students-ss24/emb-ml-challenge/utils/camera.py\", line 66, in _capture_frames\n",
      "    self.value = self._read()\n",
      "  File \"/usr/local/lib/python3.6/dist-packages/traitlets/traitlets.py\", line 585, in __set__\n",
      "    self.set(obj, value)\n",
      "  File \"/usr/local/lib/python3.6/dist-packages/traitlets/traitlets.py\", line 574, in set\n",
      "    obj._notify_trait(self.name, old_value, new_value)\n",
      "  File \"/usr/local/lib/python3.6/dist-packages/traitlets/traitlets.py\", line 1139, in _notify_trait\n",
      "    type='change',\n",
      "  File \"/usr/local/lib/python3.6/dist-packages/traitlets/traitlets.py\", line 1176, in notify_change\n",
      "    c(change)\n",
      "  File \"/home/jetson/embedded-ml-lab-students-ss24/emb-ml-challenge/utils/camera.py\", line 143, in _camera_callback\n",
      "    self.image_widget.value = bgr8_to_jpeg(image)\n",
      "  File \"/usr/local/lib/python3.6/dist-packages/jetcam-0.0.0-py3.6.egg/jetcam/utils.py\", line 5, in bgr8_to_jpeg\n",
      "    return bytes(cv2.imencode('.jpg', value)[1])\n",
      "cv2.error: OpenCV(4.5.5) /home/pfekil00/Documents/repositories/docker-opencv/opencv-python/opencv/modules/imgcodecs/src/loadsave.cpp:976: error: (-215:Assertion failed) !image.empty() in function 'imencode'\n",
      "\n",
      "\n"
     ]
    }
   ],
   "source": [
    "cam_server.start_server()"
   ]
  },
  {
   "cell_type": "code",
   "execution_count": null,
   "id": "fe65df98-d59f-4384-a0dd-360a2df538eb",
   "metadata": {},
   "outputs": [],
   "source": []
  }
 ],
 "metadata": {
  "kernelspec": {
   "display_name": "Python 3",
   "language": "python",
   "name": "python3"
  },
  "language_info": {
   "codemirror_mode": {
    "name": "ipython",
    "version": 3
   },
   "file_extension": ".py",
   "mimetype": "text/x-python",
   "name": "python",
   "nbconvert_exporter": "python",
   "pygments_lexer": "ipython3",
   "version": "3.6.9"
  }
 },
 "nbformat": 4,
 "nbformat_minor": 5
}
