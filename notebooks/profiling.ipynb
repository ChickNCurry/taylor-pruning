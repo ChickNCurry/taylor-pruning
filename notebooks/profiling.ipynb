{
 "cells": [
  {
   "cell_type": "code",
   "execution_count": 1,
   "metadata": {},
   "outputs": [
    {
     "name": "stdout",
     "output_type": "stream",
     "text": [
      "/home/jetson/embedded-ml-lab-students-ss24/emb-ml-challenge\n"
     ]
    }
   ],
   "source": [
    "%cd .."
   ]
  },
  {
   "cell_type": "code",
   "execution_count": 2,
   "metadata": {},
   "outputs": [],
   "source": [
    "import time\n",
    "import cv2\n",
    "import torch\n",
    "import tqdm\n",
    "from utils.tinyyolov2 import TinyYoloV2Fused, TinyYoloV2, TinyYoloV2Pruned\n",
    "from utils.yolo import nms, filter_boxes\n",
    "import numpy as np\n",
    "from utils.dataloader import VOCDataLoaderPerson\n",
    "import torchvision"
   ]
  },
  {
   "cell_type": "code",
   "execution_count": 3,
   "metadata": {},
   "outputs": [
    {
     "name": "stdout",
     "output_type": "stream",
     "text": [
      "cuda\n"
     ]
    }
   ],
   "source": [
    "device = torch.device('cuda' if torch.cuda.is_available() else 'cpu')\n",
    "print(device)"
   ]
  },
  {
   "cell_type": "code",
   "execution_count": 4,
   "metadata": {},
   "outputs": [],
   "source": [
    "# import torch_directml\n",
    "# device = torch_directml.device()\n",
    "# print(device)"
   ]
  },
  {
   "cell_type": "code",
   "execution_count": 5,
   "metadata": {},
   "outputs": [],
   "source": [
    "def apply_bboxes(image, output):\n",
    "    img_shape = 320\n",
    "    \n",
    "    bboxes = torch.stack(output, dim=0)\n",
    "    \n",
    "    for i in range(bboxes.shape[1]):\n",
    "\n",
    "        # only show person\n",
    "        # if int(bboxes[0,i,5]) != 14:\n",
    "        #    continue\n",
    "        \n",
    "        if bboxes[0,i,-1] >= 0:\n",
    "            \n",
    "            cx = int(bboxes[0,i,0]*img_shape - bboxes[0,i,2]*img_shape/2)\n",
    "            cy = int(bboxes[0,i,1]*img_shape - bboxes[0,i,3]*img_shape/2)\n",
    "\n",
    "            w = int(bboxes[0,i,2]*img_shape)\n",
    "            h = int(bboxes[0,i,3]*img_shape)\n",
    "            \n",
    "            cv2.rectangle(image, (cx, cy), (cx + w, cy + h), color=(255,0,0), thickness=2)\n",
    "\n",
    "            # annotation = num_to_class(int(bboxes[0,i,5])) + \" \"+  f\"{float(bboxes[0,i,4]):.2f}\"\n",
    "            annotation = f\"{float(bboxes[0,i,4]):.2f}\"\n",
    "            \n",
    "            cv2.putText(image, annotation, (cx, cy), cv2.FONT_HERSHEY_SIMPLEX, 1, (100, 255, 0), 2, cv2.LINE_AA)\n",
    "            \n",
    "    return image\n",
    "\n",
    "def apply_fps(image):\n",
    "    fps = 0\n",
    "    cv2.putText(image, f\"{fps}fps\", (2, 25), cv2.FONT_HERSHEY_SIMPLEX, 1, (100, 255, 0), 2, cv2.LINE_AA)\n",
    "    return image"
   ]
  },
  {
   "cell_type": "code",
   "execution_count": 6,
   "metadata": {},
   "outputs": [],
   "source": [
    "def xyxy2xywh(x):\n",
    "    y = x.clone() if isinstance(x, torch.Tensor) else np.copy(x)\n",
    "    y[..., 0] = (x[..., 0] + x[..., 2]) / 2  # x center\n",
    "    y[..., 1] = (x[..., 1] + x[..., 3]) / 2  # y center\n",
    "    y[..., 2] = x[..., 2] - x[..., 0]  # width\n",
    "    y[..., 3] = x[..., 3] - x[..., 1]  # height\n",
    "    return y\n",
    "\n",
    "def xywh2xyxy(x):\n",
    "    y = x.new(x.shape)\n",
    "    y[..., 0] = x[..., 0] - x[..., 2] / 2\n",
    "    y[..., 1] = x[..., 1] - x[..., 3] / 2\n",
    "    y[..., 2] = x[..., 0] + x[..., 2] / 2\n",
    "    y[..., 3] = x[..., 1] + x[..., 3] / 2\n",
    "    return y\n",
    "\n",
    "def non_max_suppression(prediction, conf_thres=0.25, iou_thres=0.45, classes=None):\n",
    "    \"\"\"Performs Non-Maximum Suppression (NMS) on inference results\n",
    "    Returns:\n",
    "         detections with shape: nx6 (x1, y1, x2, y2, conf, cls)\n",
    "    \"\"\"\n",
    "\n",
    "    nc = prediction.shape[2] - 5  # number of classes\n",
    "\n",
    "    # Settings\n",
    "    # (pixels) minimum and maximum box width and height\n",
    "    max_wh = 4096\n",
    "    max_det = 300  # maximum number of detections per image\n",
    "    max_nms = 30000  # maximum number of boxes into torchvision.ops.nms()\n",
    "    multi_label = nc > 1  # multiple labels per box (adds 0.5ms/img)\n",
    "\n",
    "    output = [torch.zeros((0, 6), device=prediction.device)] * prediction.shape[0]\n",
    "    classes_tensor = torch.tensor(classes, device=prediction.device) if classes is not None else None\n",
    "\n",
    "    for xi, x in enumerate(prediction):  # image index, image inference\n",
    "        # Apply constraints\n",
    "        # x[((x[..., 2:4] < min_wh) | (x[..., 2:4] > max_wh)).any(1), 4] = 0  # width-height\n",
    "        x = x[x[..., 4] > conf_thres]  # confidence\n",
    "\n",
    "        # If none remain process next image\n",
    "        if not x.shape[0]:\n",
    "            continue\n",
    "\n",
    "        # Compute conf\n",
    "        x[:, 5:] *= x[:, 4:5]  # conf = obj_conf * cls_conf\n",
    "\n",
    "        # Box (center x, center y, width, height) to (x1, y1, x2, y2)\n",
    "        box = xywh2xyxy(x[:, :4])\n",
    "\n",
    "        # Detections matrix nx6 (xyxy, conf, cls)\n",
    "        if multi_label:\n",
    "            i, j = (x[:, 5:] > conf_thres).nonzero(as_tuple=False).T\n",
    "            x = torch.cat((box[i], x[i, j + 5, None], j[:, None].float()), 1)\n",
    "        else:  # best class only\n",
    "            conf, j = x[:, 5:].max(1, keepdim=True)\n",
    "            x = torch.cat((box, conf, j.float()), 1)[conf.view(-1) > conf_thres]\n",
    "\n",
    "        # Filter by class\n",
    "        if classes_tensor is not None:\n",
    "            x = x[(x[:, 5:6] == classes_tensor).any(1)]\n",
    "\n",
    "        # Check shape\n",
    "        n = x.shape[0]  # number of boxes\n",
    "        if not n:  # no boxes\n",
    "            continue\n",
    "        elif n > max_nms:  # excess boxes\n",
    "            # sort by confidence\n",
    "            x = x[x[:, 4].argsort(descending=True)[:max_nms]]\n",
    "\n",
    "        # Batched NMS\n",
    "        c = x[:, 5:6] * max_wh  # classes\n",
    "        # boxes (offset by class), scores\n",
    "        boxes, scores = x[:, :4] + c, x[:, 4]\n",
    "        i = torchvision.ops.nms(boxes, scores, iou_thres)  # NMS\n",
    "        if i.shape[0] > max_det:  # limit detections\n",
    "            i = i[:max_det]\n",
    "\n",
    "        output[xi] = xyxy2xywh(x[i])\n",
    "\n",
    "    return output"
   ]
  },
  {
   "cell_type": "code",
   "execution_count": 35,
   "metadata": {},
   "outputs": [],
   "source": [
    "load_path = \"runs/taylor-new/voc_pruned_7_finetuned.pt\"\n",
    "#load_path = \"runs/voc_person_only.pt\""
   ]
  },
  {
   "cell_type": "code",
   "execution_count": 36,
   "metadata": {},
   "outputs": [
    {
     "data": {
      "text/plain": [
       "TinyYoloV2Fused(\n",
       "  (pad): ReflectionPad2d((0, 1, 0, 1))\n",
       "  (conv9): Conv2d(183, 30, kernel_size=(1, 1), stride=(1, 1))\n",
       "  (convbn1): Conv2d(3, 14, kernel_size=(3, 3), stride=(1, 1), padding=(1, 1))\n",
       "  (convbn2): Conv2d(14, 27, kernel_size=(3, 3), stride=(1, 1), padding=(1, 1))\n",
       "  (convbn3): Conv2d(27, 57, kernel_size=(3, 3), stride=(1, 1), padding=(1, 1))\n",
       "  (convbn4): Conv2d(57, 87, kernel_size=(3, 3), stride=(1, 1), padding=(1, 1))\n",
       "  (convbn5): Conv2d(87, 162, kernel_size=(3, 3), stride=(1, 1), padding=(1, 1))\n",
       "  (convbn6): Conv2d(162, 298, kernel_size=(3, 3), stride=(1, 1), padding=(1, 1))\n",
       "  (convbn7): Conv2d(298, 528, kernel_size=(3, 3), stride=(1, 1), padding=(1, 1))\n",
       "  (convbn8): Conv2d(528, 183, kernel_size=(3, 3), stride=(1, 1), padding=(1, 1))\n",
       ")"
      ]
     },
     "execution_count": 36,
     "metadata": {},
     "output_type": "execute_result"
    }
   ],
   "source": [
    "net = TinyYoloV2Fused(num_classes=1)\n",
    "net.load_state_dict(torch.load(load_path), strict=False)\n",
    "net.fuse_after_loading_sd()\n",
    "net.eval()\n",
    "net.to(device)"
   ]
  },
  {
   "cell_type": "code",
   "execution_count": 37,
   "metadata": {},
   "outputs": [],
   "source": [
    "measured_inference = []\n",
    "measured_filter_boxes = []\n",
    "measured_nms = []\n",
    "measured_apply_bboxes = []\n",
    "measured_apply_fps = []"
   ]
  },
  {
   "cell_type": "code",
   "execution_count": 38,
   "metadata": {},
   "outputs": [
    {
     "name": "stderr",
     "output_type": "stream",
     "text": [
      "100%|█████████▉| 1999/2000 [02:39<00:00, 12.51it/s]\n"
     ]
    }
   ],
   "source": [
    "loader = VOCDataLoaderPerson(train=False, batch_size=1)\n",
    "\n",
    "for idx, (input, target) in tqdm.tqdm(enumerate(loader), total=2000):\n",
    "    # image = input[0].numpy()\n",
    "    image = cv2.imread(\"mock.jpg\")\n",
    "    image = cv2.resize(image, (320, 320))\n",
    "    input = input.to(device)\n",
    "\n",
    "    with torch.no_grad():\n",
    "\n",
    "        s1 = time.time()\n",
    "        output = net(input)\n",
    "        e1 = time.time()\n",
    "\n",
    "    output = output.cpu()\n",
    "    \n",
    "    s2 = time.time()\n",
    "    output = filter_boxes(output, 0.2)\n",
    "    # output = non_max_suppression(output, 0.2, 0.25)\n",
    "    e2 = time.time()\n",
    "\n",
    "    s3 = time.time()\n",
    "    output = nms(output, 0.25)\n",
    "    e3 = time.time()\n",
    "\n",
    "    s4 = time.time()\n",
    "    image = apply_bboxes(image, output)\n",
    "    e4 = time.time()\n",
    "\n",
    "    s5 = time.time()\n",
    "    image = apply_fps(image)\n",
    "    e5 = time.time()\n",
    "\n",
    "    measured_inference.append(e1 - s1)\n",
    "    measured_filter_boxes.append(e2 - s2)\n",
    "    measured_nms.append(e3 - s3)\n",
    "    measured_apply_bboxes.append(e4 - s4)\n",
    "    measured_apply_fps.append(e5 - s5)\n",
    "\n",
    "    if idx == 1999:\n",
    "        break"
   ]
  },
  {
   "cell_type": "code",
   "execution_count": 39,
   "metadata": {},
   "outputs": [],
   "source": [
    "assert len(measured_inference) == 2000\n",
    "mean_inference = np.array(measured_inference).mean()\n",
    "mean_filter_boxes = np.array(measured_filter_boxes).mean()\n",
    "mean_nms = np.array(measured_nms).mean()\n",
    "mean_apply_bboxes = np.array(measured_apply_bboxes).mean()\n",
    "mean_apply_fps = np.array(measured_apply_fps).mean()\n",
    "mean_total = mean_inference + mean_filter_boxes + mean_nms + mean_apply_bboxes + mean_apply_fps"
   ]
  },
  {
   "cell_type": "code",
   "execution_count": 40,
   "metadata": {},
   "outputs": [],
   "source": [
    "# !pip install seaborn"
   ]
  },
  {
   "cell_type": "code",
   "execution_count": 41,
   "metadata": {},
   "outputs": [
    {
     "data": {
      "image/png": "[encoded data removed]",
      "text/plain": [
       "<Figure size 720x432 with 1 Axes>"
      ]
     },
     "metadata": {
      "needs_background": "light"
     },
     "output_type": "display_data"
    },
    {
     "name": "stdout",
     "output_type": "stream",
     "text": [
      "70.56580190820561\n"
     ]
    }
   ],
   "source": [
    "import matplotlib.pyplot as plt\n",
    "import seaborn as sns\n",
    "import pandas as pd\n",
    "\n",
    "# Create a DataFrame\n",
    "data = pd.DataFrame({\n",
    "    'Pipeline Steps': ['Inference', 'Filter Boxes', 'NMS', 'Apply BBoxes', 'Apply FPS'],\n",
    "    'Times': [mean_inference, mean_filter_boxes, mean_nms, mean_apply_bboxes, mean_apply_fps]\n",
    "})\n",
    "\n",
    "# Calculate the percentage of each part\n",
    "data['Percentage'] = (data['Times'] / data['Times'].sum()) * 100\n",
    "\n",
    "# Plotting\n",
    "plt.figure(figsize=(10, 6))\n",
    "sns.barplot(x='Pipeline Steps', y='Percentage', data=data, palette='viridis')\n",
    "\n",
    "# Adding percentage labels\n",
    "for index, row in data.iterrows():\n",
    "    plt.text(index, row['Percentage'] + 1, f\"{row['Percentage']:.1f}% at {row['Times']*1000:.2f}ms\", color='black', ha=\"center\")\n",
    "\n",
    "plt.ylabel('Percentage of Total Time')\n",
    "plt.title('Time Distribution of Detection Pipeline')\n",
    "plt.savefig(\"voc_person_only_new_profile.png\")\n",
    "plt.show()\n",
    "\n",
    "print(1/mean_total)"
   ]
  },
  {
   "cell_type": "code",
   "execution_count": 32,
   "metadata": {},
   "outputs": [
    {
     "data": {
      "text/plain": [
       "<Figure size 432x288 with 0 Axes>"
      ]
     },
     "metadata": {},
     "output_type": "display_data"
    }
   ],
   "source": []
  },
  {
   "cell_type": "code",
   "execution_count": null,
   "metadata": {},
   "outputs": [],
   "source": []
  }
 ],
 "metadata": {
  "kernelspec": {
   "display_name": "Python 3",
   "language": "python",
   "name": "python3"
  },
  "language_info": {
   "codemirror_mode": {
    "name": "ipython",
    "version": 3
   },
   "file_extension": ".py",
   "mimetype": "text/x-python",
   "name": "python",
   "nbconvert_exporter": "python",
   "pygments_lexer": "ipython3",
   "version": "3.6.9"
  }
 },
 "nbformat": 4,
 "nbformat_minor": 4
}
