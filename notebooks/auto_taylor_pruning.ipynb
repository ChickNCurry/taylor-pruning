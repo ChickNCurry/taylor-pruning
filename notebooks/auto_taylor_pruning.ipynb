{
 "cells": [
  {
   "cell_type": "code",
   "execution_count": 1,
   "metadata": {},
   "outputs": [
    {
     "name": "stdout",
     "output_type": "stream",
     "text": [
      "/home/chickencurry/emb-ml-challenge\n"
     ]
    }
   ],
   "source": [
    "%cd .."
   ]
  },
  {
   "cell_type": "code",
   "execution_count": 2,
   "metadata": {},
   "outputs": [],
   "source": [
    "import torch\n",
    "import matplotlib.pyplot as plt\n",
    "from utils.taylor_pruning import TinyYoloV2WithTaylorRanking, prune_state_dict, get_channels_to_prune_per_layer\n",
    "from utils.dataloader import VOCDataLoaderPerson\n",
    "from utils.loss import YoloLoss\n",
    "from utils.train_eval import validate, train_epoch\n",
    "from utils.tinyyolov2 import TinyYoloV2Pruned\n",
    "from utils.metrics import get_size_on_disk"
   ]
  },
  {
   "cell_type": "code",
   "execution_count": 3,
   "metadata": {},
   "outputs": [
    {
     "name": "stdout",
     "output_type": "stream",
     "text": [
      "cpu\n"
     ]
    }
   ],
   "source": [
    "device = torch.device('cuda' if torch.cuda.is_available() else 'cpu')\n",
    "print(device)"
   ]
  },
  {
   "cell_type": "code",
   "execution_count": 4,
   "metadata": {},
   "outputs": [],
   "source": [
    "# import torch_directml\n",
    "# device = torch_directml.device()\n",
    "# print(device)"
   ]
  },
  {
   "cell_type": "code",
   "execution_count": 5,
   "metadata": {},
   "outputs": [],
   "source": [
    "train_loader = VOCDataLoaderPerson(train=True, batch_size=128, shuffle=True)\n",
    "val_loader = VOCDataLoaderPerson(train=False, batch_size=1)"
   ]
  },
  {
   "cell_type": "code",
   "execution_count": 7,
   "metadata": {},
   "outputs": [],
   "source": [
    "# num of kernels to prune = multiplier * model size\n",
    "\n",
    "def run_taylor_pruning(\n",
    "        device, \n",
    "        train_loader, \n",
    "        val_loader, \n",
    "        num_of_iterations=10, \n",
    "        multiplier=10, \n",
    "        num_epochs=10,\n",
    "        lr=0.0001,\n",
    "        save_dir=\"./runs/taylor2\", \n",
    "        initial_load_path=\"./runs/voc_person_only.pt\",\n",
    "        start_index=0):\n",
    "    \n",
    "    final_val_aps = []\n",
    "    model_sizes = []\n",
    "    \n",
    "    for i in range(num_of_iterations):\n",
    "        n = i + start_index\n",
    "\n",
    "        load_path = f'{save_dir}/voc_pruned_{n-1}_finetuned.pt' if i > 0 else initial_load_path\n",
    "        print(f\"load_path: {load_path}\")\n",
    "\n",
    "        state_dict = torch.load(load_path)\n",
    "        net = TinyYoloV2WithTaylorRanking(device, num_classes=1)\n",
    "        net.load_state_dict(state_dict, strict=False)\n",
    "\n",
    "        criterion = YoloLoss(anchors=net.anchors)\n",
    "\n",
    "        model_size = get_size_on_disk(net.state_dict())\n",
    "        print(f\"model_size: {model_size}\")\n",
    "        model_sizes.append(model_size)\n",
    "\n",
    "        num_of_filters_to_prune = int(multiplier * model_size)\n",
    "        print(f\"num_of_filters_to_prune: {num_of_filters_to_prune}\")\n",
    "        feature_maps_to_prune = get_channels_to_prune_per_layer(net, criterion, train_loader, device, num_of_filters_to_prune)\n",
    "        state_dict = prune_state_dict(state_dict, feature_maps_to_prune)\n",
    "\n",
    "        net = TinyYoloV2Pruned(num_classes=1)\n",
    "        net.load_state_dict(state_dict, strict=False)\n",
    "\n",
    "        ap_after_pruning = validate(net, device, val_loader, roc=False)\n",
    "        print(f\"ap_after_pruning: {ap_after_pruning}\")\n",
    "\n",
    "        torch.save(net.state_dict(), f'{save_dir}/voc_pruned_{n}.pt')\n",
    "\n",
    "        for key, param in net.named_parameters():\n",
    "            if any(x in key for x in ['1', '2', '3', '4', '5', '6', '7']):\n",
    "                param.requires_grad = False\n",
    "            elif any(x in key for x in [\"8\", \"9\"]):\n",
    "                param.requires_grad = True\n",
    "        params_to_train = filter(lambda x: x.requires_grad, net.parameters())\n",
    "\n",
    "        criterion = YoloLoss(anchors=net.anchors)\n",
    "        optimizer = torch.optim.Adam(params_to_train, lr=lr) # lr=0.001)\n",
    "\n",
    "        val_aps = []\n",
    "        avg_losses = []\n",
    "        max_val_ap = ap_after_pruning\n",
    "\n",
    "        for epoch in range(num_epochs):\n",
    "            \n",
    "            avg_loss = train_epoch(net, optimizer, criterion, device, train_loader)\n",
    "            avg_losses.append(avg_loss)\n",
    "\n",
    "            val_ap = validate(net, device, val_loader, roc=False)\n",
    "            val_aps.append(val_ap)\n",
    "            print(f\"at epoch {epoch}, val_ap: {val_ap}\")\n",
    "\n",
    "            if val_ap > max_val_ap:\n",
    "                max_val_ap = val_ap\n",
    "                print(\"new max_val_ap\")\n",
    "                torch.save(net.state_dict(), f'{save_dir}/voc_pruned_{n}_finetuned.pt')\n",
    "\n",
    "        final_val_aps.append(max_val_ap)\n",
    "                \n",
    "        plt.subplot(1, 2, 1)\n",
    "        plt.plot(val_aps)\n",
    "        plt.title(\"Validation AP\")\n",
    "        plt.xlabel(\"Epoch\")\n",
    "        plt.ylabel(\"AP\")\n",
    "\n",
    "        plt.subplot(1, 2, 2)\n",
    "        plt.plot(avg_losses)\n",
    "        plt.title(\"Average Loss\")\n",
    "        plt.xlabel(\"Epoch\")\n",
    "        plt.ylabel(\"Average Loss\")\n",
    "        plt.show()\n",
    "\n",
    "        print(f\"val_aps: {val_aps}\")\n",
    "        print(f\"avg_losses: {avg_losses}\")\n",
    "\n",
    "    return final_val_aps, model_sizes"
   ]
  },
  {
   "cell_type": "code",
   "execution_count": 8,
   "metadata": {},
   "outputs": [
    {
     "name": "stdout",
     "output_type": "stream",
     "text": [
      "load_path: ./runs/voc_person_only.pt\n",
      "model_size: 70.800601\n",
      "num_of_filters_to_prune: 708\n"
     ]
    },
    {
     "name": "stderr",
     "output_type": "stream",
     "text": [
      "  0%|          | 0/17 [00:00<?, ?it/s]/home/chickencurry/miniconda3/envs/torch-directml/lib/python3.8/site-packages/torch/functional.py:512: UserWarning: torch.meshgrid: in an upcoming release, it will be required to pass the indexing argument. (Triggered internally at ../aten/src/ATen/native/TensorShape.cpp:3587.)\n",
      "  return _VF.meshgrid(tensors, **kwargs)  # type: ignore[attr-defined]\n",
      "100%|██████████| 17/17 [02:11<00:00,  7.76s/it]\n"
     ]
    },
    {
     "name": "stdout",
     "output_type": "stream",
     "text": [
      "[0, 0, 0, 0, 8, 38, 231, 431, 0]\n"
     ]
    },
    {
     "name": "stderr",
     "output_type": "stream",
     "text": [
      "100%|██████████| 350/350 [00:24<00:00, 14.20it/s]\n"
     ]
    },
    {
     "name": "stdout",
     "output_type": "stream",
     "text": [
      "ap_after_pruning: 0.5006759153362929\n"
     ]
    },
    {
     "name": "stderr",
     "output_type": "stream",
     "text": [
      "100%|██████████| 17/17 [00:56<00:00,  3.33s/it]\n",
      "100%|██████████| 350/350 [00:19<00:00, 17.85it/s]\n"
     ]
    },
    {
     "name": "stdout",
     "output_type": "stream",
     "text": [
      "at epoch 0, val_ap: 0.541032871107491\n",
      "new max_val_ap\n"
     ]
    },
    {
     "name": "stderr",
     "output_type": "stream",
     "text": [
      "100%|██████████| 17/17 [00:57<00:00,  3.37s/it]\n",
      "100%|██████████| 350/350 [00:19<00:00, 17.61it/s]\n"
     ]
    },
    {
     "name": "stdout",
     "output_type": "stream",
     "text": [
      "at epoch 1, val_ap: 0.5595383173564769\n",
      "new max_val_ap\n"
     ]
    },
    {
     "name": "stderr",
     "output_type": "stream",
     "text": [
      "100%|██████████| 17/17 [00:58<00:00,  3.42s/it]\n",
      "100%|██████████| 350/350 [00:20<00:00, 17.21it/s]\n"
     ]
    },
    {
     "name": "stdout",
     "output_type": "stream",
     "text": [
      "at epoch 2, val_ap: 0.5701778977739781\n",
      "new max_val_ap\n"
     ]
    },
    {
     "name": "stderr",
     "output_type": "stream",
     "text": [
      "100%|██████████| 17/17 [00:59<00:00,  3.50s/it]\n",
      "100%|██████████| 350/350 [00:19<00:00, 17.90it/s]\n"
     ]
    },
    {
     "name": "stdout",
     "output_type": "stream",
     "text": [
      "at epoch 3, val_ap: 0.5737797802355616\n",
      "new max_val_ap\n"
     ]
    },
    {
     "name": "stderr",
     "output_type": "stream",
     "text": [
      "100%|██████████| 17/17 [00:58<00:00,  3.44s/it]\n",
      "100%|██████████| 350/350 [00:19<00:00, 17.84it/s]\n"
     ]
    },
    {
     "name": "stdout",
     "output_type": "stream",
     "text": [
      "at epoch 4, val_ap: 0.5940167119027345\n",
      "new max_val_ap\n"
     ]
    },
    {
     "name": "stderr",
     "output_type": "stream",
     "text": [
      "100%|██████████| 17/17 [00:59<00:00,  3.51s/it]\n",
      "100%|██████████| 350/350 [00:19<00:00, 18.01it/s]\n"
     ]
    },
    {
     "name": "stdout",
     "output_type": "stream",
     "text": [
      "at epoch 5, val_ap: 0.5989202942235586\n",
      "new max_val_ap\n"
     ]
    },
    {
     "name": "stderr",
     "output_type": "stream",
     "text": [
      "100%|██████████| 17/17 [00:57<00:00,  3.37s/it]\n",
      "100%|██████████| 350/350 [00:19<00:00, 18.37it/s]\n"
     ]
    },
    {
     "name": "stdout",
     "output_type": "stream",
     "text": [
      "at epoch 6, val_ap: 0.6142950965527381\n",
      "new max_val_ap\n"
     ]
    },
    {
     "name": "stderr",
     "output_type": "stream",
     "text": [
      "100%|██████████| 17/17 [00:57<00:00,  3.39s/it]\n",
      "100%|██████████| 350/350 [00:19<00:00, 17.94it/s]\n"
     ]
    },
    {
     "name": "stdout",
     "output_type": "stream",
     "text": [
      "at epoch 7, val_ap: 0.6320385553478648\n",
      "new max_val_ap\n"
     ]
    },
    {
     "name": "stderr",
     "output_type": "stream",
     "text": [
      "100%|██████████| 17/17 [00:58<00:00,  3.42s/it]\n",
      "100%|██████████| 350/350 [00:19<00:00, 18.11it/s]\n"
     ]
    },
    {
     "name": "stdout",
     "output_type": "stream",
     "text": [
      "at epoch 8, val_ap: 0.6124562140360615\n"
     ]
    },
    {
     "name": "stderr",
     "output_type": "stream",
     "text": [
      "100%|██████████| 17/17 [00:57<00:00,  3.40s/it]\n",
      "100%|██████████| 350/350 [00:19<00:00, 17.90it/s]\n"
     ]
    },
    {
     "name": "stdout",
     "output_type": "stream",
     "text": [
      "at epoch 9, val_ap: 0.6104757954460104\n"
     ]
    },
    {
     "name": "stderr",
     "output_type": "stream",
     "text": [
      "100%|██████████| 17/17 [00:56<00:00,  3.35s/it]\n",
      "100%|██████████| 350/350 [00:19<00:00, 17.95it/s]\n"
     ]
    },
    {
     "name": "stdout",
     "output_type": "stream",
     "text": [
      "at epoch 10, val_ap: 0.6148152764367941\n"
     ]
    },
    {
     "name": "stderr",
     "output_type": "stream",
     "text": [
      "100%|██████████| 17/17 [00:57<00:00,  3.35s/it]\n",
      "100%|██████████| 350/350 [00:19<00:00, 17.69it/s]\n"
     ]
    },
    {
     "name": "stdout",
     "output_type": "stream",
     "text": [
      "at epoch 11, val_ap: 0.6201605340718628\n"
     ]
    },
    {
     "name": "stderr",
     "output_type": "stream",
     "text": [
      "100%|██████████| 17/17 [00:57<00:00,  3.36s/it]\n",
      "100%|██████████| 350/350 [00:19<00:00, 17.95it/s]\n"
     ]
    },
    {
     "name": "stdout",
     "output_type": "stream",
     "text": [
      "at epoch 12, val_ap: 0.6230602017064301\n"
     ]
    },
    {
     "data": {
      "image/png": "[encoded data removed]",
      "text/plain": [
       "<Figure size 640x480 with 2 Axes>"
      ]
     },
     "metadata": {},
     "output_type": "display_data"
    },
    {
     "name": "stdout",
     "output_type": "stream",
     "text": [
      "val_aps: [0.541032871107491, 0.5595383173564769, 0.5701778977739781, 0.5737797802355616, 0.5940167119027345, 0.5989202942235586, 0.6142950965527381, 0.6320385553478648, 0.6124562140360615, 0.6104757954460104, 0.6148152764367941, 0.6201605340718628, 0.6230602017064301]\n",
      "avg_losses: [4.32381199387943, 2.215713416828829, 1.8875468478483313, 1.7438643820145552, 1.657773817286772, 1.5803546765271355, 1.2076764737858492, 1.157463129828958, 1.1319694378796745, 1.093687141642851, 1.0759200103142683, 1.055617423618541, 1.0347751589382397]\n",
      "load_path: ./runs/taylor2/voc_pruned_0_finetuned.pt\n",
      "model_size: 40.773437\n",
      "num_of_filters_to_prune: 407\n"
     ]
    },
    {
     "name": "stderr",
     "output_type": "stream",
     "text": [
      "100%|██████████| 17/17 [01:51<00:00,  6.58s/it]\n"
     ]
    },
    {
     "name": "stdout",
     "output_type": "stream",
     "text": [
      "[0, 0, 0, 0, 3, 16, 133, 255, 0]\n"
     ]
    },
    {
     "name": "stderr",
     "output_type": "stream",
     "text": [
      "100%|██████████| 350/350 [00:23<00:00, 15.13it/s]\n"
     ]
    },
    {
     "name": "stdout",
     "output_type": "stream",
     "text": [
      "ap_after_pruning: 0.5761622809060385\n"
     ]
    },
    {
     "name": "stderr",
     "output_type": "stream",
     "text": [
      "100%|██████████| 17/17 [00:52<00:00,  3.10s/it]\n",
      "100%|██████████| 350/350 [00:19<00:00, 18.42it/s]\n"
     ]
    },
    {
     "name": "stdout",
     "output_type": "stream",
     "text": [
      "at epoch 0, val_ap: 0.5177695833360569\n"
     ]
    },
    {
     "name": "stderr",
     "output_type": "stream",
     "text": [
      "100%|██████████| 17/17 [00:52<00:00,  3.06s/it]\n",
      "100%|██████████| 350/350 [00:18<00:00, 18.94it/s]\n"
     ]
    },
    {
     "name": "stdout",
     "output_type": "stream",
     "text": [
      "at epoch 1, val_ap: 0.5791254387213983\n",
      "new max_val_ap\n"
     ]
    },
    {
     "name": "stderr",
     "output_type": "stream",
     "text": [
      "100%|██████████| 17/17 [00:52<00:00,  3.06s/it]\n",
      "100%|██████████| 350/350 [00:18<00:00, 19.07it/s]\n"
     ]
    },
    {
     "name": "stdout",
     "output_type": "stream",
     "text": [
      "at epoch 2, val_ap: 0.5629125879666229\n"
     ]
    },
    {
     "name": "stderr",
     "output_type": "stream",
     "text": [
      "100%|██████████| 17/17 [00:51<00:00,  3.05s/it]\n",
      "100%|██████████| 350/350 [00:17<00:00, 19.49it/s]\n"
     ]
    },
    {
     "name": "stdout",
     "output_type": "stream",
     "text": [
      "at epoch 3, val_ap: 0.602400031692961\n",
      "new max_val_ap\n"
     ]
    },
    {
     "name": "stderr",
     "output_type": "stream",
     "text": [
      "100%|██████████| 17/17 [00:51<00:00,  3.05s/it]\n",
      "100%|██████████| 350/350 [00:17<00:00, 19.50it/s]\n"
     ]
    },
    {
     "name": "stdout",
     "output_type": "stream",
     "text": [
      "at epoch 4, val_ap: 0.5694489838224017\n"
     ]
    },
    {
     "name": "stderr",
     "output_type": "stream",
     "text": [
      "100%|██████████| 17/17 [00:52<00:00,  3.07s/it]\n",
      "100%|██████████| 350/350 [00:18<00:00, 19.19it/s]\n"
     ]
    },
    {
     "name": "stdout",
     "output_type": "stream",
     "text": [
      "at epoch 5, val_ap: 0.5791767746457607\n"
     ]
    },
    {
     "name": "stderr",
     "output_type": "stream",
     "text": [
      "100%|██████████| 17/17 [00:51<00:00,  3.02s/it]\n",
      "100%|██████████| 350/350 [00:17<00:00, 19.52it/s]\n"
     ]
    },
    {
     "name": "stdout",
     "output_type": "stream",
     "text": [
      "at epoch 6, val_ap: 0.6364176735608443\n",
      "new max_val_ap\n"
     ]
    },
    {
     "name": "stderr",
     "output_type": "stream",
     "text": [
      "100%|██████████| 17/17 [00:52<00:00,  3.11s/it]\n",
      "100%|██████████| 350/350 [00:18<00:00, 19.22it/s]\n"
     ]
    },
    {
     "name": "stdout",
     "output_type": "stream",
     "text": [
      "at epoch 7, val_ap: 0.6357847956527055\n"
     ]
    },
    {
     "name": "stderr",
     "output_type": "stream",
     "text": [
      "100%|██████████| 17/17 [00:52<00:00,  3.09s/it]\n",
      "100%|██████████| 350/350 [00:18<00:00, 18.66it/s]\n"
     ]
    },
    {
     "name": "stdout",
     "output_type": "stream",
     "text": [
      "at epoch 8, val_ap: 0.6059798084544945\n"
     ]
    },
    {
     "name": "stderr",
     "output_type": "stream",
     "text": [
      "100%|██████████| 17/17 [00:52<00:00,  3.10s/it]\n",
      "100%|██████████| 350/350 [00:18<00:00, 18.59it/s]\n"
     ]
    },
    {
     "name": "stdout",
     "output_type": "stream",
     "text": [
      "at epoch 9, val_ap: 0.6286778611759186\n"
     ]
    },
    {
     "name": "stderr",
     "output_type": "stream",
     "text": [
      "100%|██████████| 17/17 [00:52<00:00,  3.09s/it]\n",
      "100%|██████████| 350/350 [00:18<00:00, 18.50it/s]\n"
     ]
    },
    {
     "name": "stdout",
     "output_type": "stream",
     "text": [
      "at epoch 10, val_ap: 0.6221945692225412\n"
     ]
    },
    {
     "name": "stderr",
     "output_type": "stream",
     "text": [
      "100%|██████████| 17/17 [00:52<00:00,  3.11s/it]\n",
      "100%|██████████| 350/350 [00:19<00:00, 18.40it/s]\n"
     ]
    },
    {
     "name": "stdout",
     "output_type": "stream",
     "text": [
      "at epoch 11, val_ap: 0.6243244093671444\n"
     ]
    },
    {
     "name": "stderr",
     "output_type": "stream",
     "text": [
      "100%|██████████| 17/17 [00:52<00:00,  3.09s/it]\n",
      "100%|██████████| 350/350 [00:19<00:00, 18.35it/s]\n"
     ]
    },
    {
     "name": "stdout",
     "output_type": "stream",
     "text": [
      "at epoch 12, val_ap: 0.5986423065212647\n"
     ]
    },
    {
     "data": {
      "image/png": "[encoded data removed]",
      "text/plain": [
       "<Figure size 640x480 with 2 Axes>"
      ]
     },
     "metadata": {},
     "output_type": "display_data"
    },
    {
     "name": "stdout",
     "output_type": "stream",
     "text": [
      "val_aps: [0.5177695833360569, 0.5791254387213983, 0.5629125879666229, 0.602400031692961, 0.5694489838224017, 0.5791767746457607, 0.6364176735608443, 0.6357847956527055, 0.6059798084544945, 0.6286778611759186, 0.6221945692225412, 0.6243244093671444, 0.5986423065212647]\n",
      "avg_losses: [2.642051668728099, 2.033715809092802, 1.8494243972441728, 1.7347649546230541, 1.6526082964504467, 1.5769498768974752, 1.248320881058188, 1.1912204447914572, 1.155051399679745, 1.1192194784388823, 1.0881718888002283, 1.063815243103925, 1.039281189441681]\n",
      "load_path: ./runs/taylor2/voc_pruned_1_finetuned.pt\n",
      "model_size: 27.547717\n",
      "num_of_filters_to_prune: 275\n"
     ]
    },
    {
     "name": "stderr",
     "output_type": "stream",
     "text": [
      "100%|██████████| 17/17 [01:48<00:00,  6.37s/it]\n"
     ]
    },
    {
     "name": "stdout",
     "output_type": "stream",
     "text": [
      "[0, 0, 0, 0, 6, 49, 110, 110, 0]\n"
     ]
    },
    {
     "name": "stderr",
     "output_type": "stream",
     "text": [
      "100%|██████████| 350/350 [00:24<00:00, 14.48it/s]\n"
     ]
    },
    {
     "name": "stdout",
     "output_type": "stream",
     "text": [
      "ap_after_pruning: 0.5182840356812483\n"
     ]
    },
    {
     "name": "stderr",
     "output_type": "stream",
     "text": [
      "100%|██████████| 17/17 [00:48<00:00,  2.84s/it]\n",
      "100%|██████████| 350/350 [00:20<00:00, 17.36it/s]\n"
     ]
    },
    {
     "name": "stdout",
     "output_type": "stream",
     "text": [
      "at epoch 0, val_ap: 0.5018701478845669\n"
     ]
    },
    {
     "name": "stderr",
     "output_type": "stream",
     "text": [
      "100%|██████████| 17/17 [00:48<00:00,  2.88s/it]\n",
      "100%|██████████| 350/350 [00:18<00:00, 19.01it/s]\n"
     ]
    },
    {
     "name": "stdout",
     "output_type": "stream",
     "text": [
      "at epoch 1, val_ap: 0.5380421632449314\n",
      "new max_val_ap\n"
     ]
    },
    {
     "name": "stderr",
     "output_type": "stream",
     "text": [
      "100%|██████████| 17/17 [00:48<00:00,  2.85s/it]\n",
      "100%|██████████| 350/350 [00:18<00:00, 18.94it/s]\n"
     ]
    },
    {
     "name": "stdout",
     "output_type": "stream",
     "text": [
      "at epoch 2, val_ap: 0.5488611068186681\n",
      "new max_val_ap\n"
     ]
    },
    {
     "name": "stderr",
     "output_type": "stream",
     "text": [
      "100%|██████████| 17/17 [00:48<00:00,  2.86s/it]\n",
      "100%|██████████| 350/350 [00:17<00:00, 19.94it/s]\n"
     ]
    },
    {
     "name": "stdout",
     "output_type": "stream",
     "text": [
      "at epoch 3, val_ap: 0.5569335504346872\n",
      "new max_val_ap\n"
     ]
    },
    {
     "name": "stderr",
     "output_type": "stream",
     "text": [
      "100%|██████████| 17/17 [00:48<00:00,  2.84s/it]\n",
      "100%|██████████| 350/350 [00:18<00:00, 19.40it/s]\n"
     ]
    },
    {
     "name": "stdout",
     "output_type": "stream",
     "text": [
      "at epoch 4, val_ap: 0.5601076259026259\n",
      "new max_val_ap\n"
     ]
    },
    {
     "name": "stderr",
     "output_type": "stream",
     "text": [
      "100%|██████████| 17/17 [00:48<00:00,  2.82s/it]\n",
      "100%|██████████| 350/350 [00:17<00:00, 19.81it/s]\n"
     ]
    },
    {
     "name": "stdout",
     "output_type": "stream",
     "text": [
      "at epoch 5, val_ap: 0.5640656819330422\n",
      "new max_val_ap\n"
     ]
    },
    {
     "name": "stderr",
     "output_type": "stream",
     "text": [
      "100%|██████████| 17/17 [00:48<00:00,  2.85s/it]\n",
      "100%|██████████| 350/350 [00:17<00:00, 19.79it/s]\n"
     ]
    },
    {
     "name": "stdout",
     "output_type": "stream",
     "text": [
      "at epoch 6, val_ap: 0.5682833018312177\n",
      "new max_val_ap\n"
     ]
    },
    {
     "name": "stderr",
     "output_type": "stream",
     "text": [
      "100%|██████████| 17/17 [00:49<00:00,  2.91s/it]\n",
      "100%|██████████| 350/350 [00:18<00:00, 19.37it/s]\n"
     ]
    },
    {
     "name": "stdout",
     "output_type": "stream",
     "text": [
      "at epoch 7, val_ap: 0.5696717089667178\n",
      "new max_val_ap\n"
     ]
    },
    {
     "name": "stderr",
     "output_type": "stream",
     "text": [
      "100%|██████████| 17/17 [00:49<00:00,  2.88s/it]\n",
      "100%|██████████| 350/350 [00:18<00:00, 19.25it/s]\n"
     ]
    },
    {
     "name": "stdout",
     "output_type": "stream",
     "text": [
      "at epoch 8, val_ap: 0.5670949269758224\n"
     ]
    },
    {
     "name": "stderr",
     "output_type": "stream",
     "text": [
      "100%|██████████| 17/17 [00:49<00:00,  2.89s/it]\n",
      "100%|██████████| 350/350 [00:17<00:00, 19.45it/s]\n"
     ]
    },
    {
     "name": "stdout",
     "output_type": "stream",
     "text": [
      "at epoch 9, val_ap: 0.5915520258407657\n",
      "new max_val_ap\n"
     ]
    },
    {
     "name": "stderr",
     "output_type": "stream",
     "text": [
      "100%|██████████| 17/17 [00:48<00:00,  2.83s/it]\n",
      "100%|██████████| 350/350 [00:18<00:00, 19.40it/s]\n"
     ]
    },
    {
     "name": "stdout",
     "output_type": "stream",
     "text": [
      "at epoch 10, val_ap: 0.576379715978019\n"
     ]
    },
    {
     "name": "stderr",
     "output_type": "stream",
     "text": [
      "100%|██████████| 17/17 [00:48<00:00,  2.83s/it]\n",
      "100%|██████████| 350/350 [00:18<00:00, 19.14it/s]\n"
     ]
    },
    {
     "name": "stdout",
     "output_type": "stream",
     "text": [
      "at epoch 11, val_ap: 0.5926987808830044\n",
      "new max_val_ap\n"
     ]
    },
    {
     "name": "stderr",
     "output_type": "stream",
     "text": [
      "100%|██████████| 17/17 [00:48<00:00,  2.84s/it]\n",
      "100%|██████████| 350/350 [00:18<00:00, 19.16it/s]\n"
     ]
    },
    {
     "name": "stdout",
     "output_type": "stream",
     "text": [
      "at epoch 12, val_ap: 0.5927327720991016\n",
      "new max_val_ap\n"
     ]
    },
    {
     "data": {
      "image/png": "[encoded data removed]",
      "text/plain": [
       "<Figure size 640x480 with 2 Axes>"
      ]
     },
     "metadata": {},
     "output_type": "display_data"
    },
    {
     "name": "stdout",
     "output_type": "stream",
     "text": [
      "val_aps: [0.5018701478845669, 0.5380421632449314, 0.5488611068186681, 0.5569335504346872, 0.5601076259026259, 0.5640656819330422, 0.5682833018312177, 0.5696717089667178, 0.5670949269758224, 0.5915520258407657, 0.576379715978019, 0.5926987808830044, 0.5927327720991016]\n",
      "avg_losses: [3.1373006596284756, 2.4581798244925106, 2.201746660120347, 2.0328889454112335, 1.9192439387826359, 1.8118632260490866, 1.4898471060921163, 1.4174768153358908, 1.360416335218093, 1.3132231796489042, 1.271416846443625, 1.2370065871407003, 1.2080817152472103]\n",
      "load_path: ./runs/taylor2/voc_pruned_2_finetuned.pt\n",
      "model_size: 19.839901\n",
      "num_of_filters_to_prune: 198\n"
     ]
    },
    {
     "name": "stderr",
     "output_type": "stream",
     "text": [
      "100%|██████████| 17/17 [01:41<00:00,  5.97s/it]\n"
     ]
    },
    {
     "name": "stdout",
     "output_type": "stream",
     "text": [
      "[0, 0, 0, 2, 2, 40, 118, 36, 0]\n"
     ]
    },
    {
     "name": "stderr",
     "output_type": "stream",
     "text": [
      "100%|██████████| 350/350 [00:19<00:00, 18.22it/s]\n"
     ]
    },
    {
     "name": "stdout",
     "output_type": "stream",
     "text": [
      "ap_after_pruning: 0.5485888157090174\n"
     ]
    },
    {
     "name": "stderr",
     "output_type": "stream",
     "text": [
      "100%|██████████| 17/17 [00:48<00:00,  2.83s/it]\n",
      "100%|██████████| 350/350 [00:17<00:00, 20.49it/s]\n"
     ]
    },
    {
     "name": "stdout",
     "output_type": "stream",
     "text": [
      "at epoch 0, val_ap: 0.5562153637257273\n",
      "new max_val_ap\n"
     ]
    },
    {
     "name": "stderr",
     "output_type": "stream",
     "text": [
      "100%|██████████| 17/17 [00:48<00:00,  2.84s/it]\n",
      "100%|██████████| 350/350 [00:16<00:00, 20.91it/s]\n"
     ]
    },
    {
     "name": "stdout",
     "output_type": "stream",
     "text": [
      "at epoch 1, val_ap: 0.5644168900002078\n",
      "new max_val_ap\n"
     ]
    },
    {
     "name": "stderr",
     "output_type": "stream",
     "text": [
      "100%|██████████| 17/17 [00:48<00:00,  2.83s/it]\n",
      "100%|██████████| 350/350 [00:17<00:00, 20.32it/s]\n"
     ]
    },
    {
     "name": "stdout",
     "output_type": "stream",
     "text": [
      "at epoch 2, val_ap: 0.5637608156229212\n"
     ]
    },
    {
     "name": "stderr",
     "output_type": "stream",
     "text": [
      "100%|██████████| 17/17 [00:47<00:00,  2.77s/it]\n",
      "100%|██████████| 350/350 [00:17<00:00, 20.58it/s]\n"
     ]
    },
    {
     "name": "stdout",
     "output_type": "stream",
     "text": [
      "at epoch 3, val_ap: 0.572640755410655\n",
      "new max_val_ap\n"
     ]
    },
    {
     "name": "stderr",
     "output_type": "stream",
     "text": [
      "100%|██████████| 17/17 [00:47<00:00,  2.78s/it]\n",
      "100%|██████████| 350/350 [00:16<00:00, 20.75it/s]\n"
     ]
    },
    {
     "name": "stdout",
     "output_type": "stream",
     "text": [
      "at epoch 4, val_ap: 0.5722879604772735\n"
     ]
    },
    {
     "name": "stderr",
     "output_type": "stream",
     "text": [
      "100%|██████████| 17/17 [00:47<00:00,  2.82s/it]\n",
      "100%|██████████| 350/350 [00:17<00:00, 20.28it/s]\n"
     ]
    },
    {
     "name": "stdout",
     "output_type": "stream",
     "text": [
      "at epoch 5, val_ap: 0.5683550531718464\n"
     ]
    },
    {
     "name": "stderr",
     "output_type": "stream",
     "text": [
      "100%|██████████| 17/17 [00:48<00:00,  2.85s/it]\n",
      "100%|██████████| 350/350 [00:17<00:00, 20.31it/s]\n"
     ]
    },
    {
     "name": "stdout",
     "output_type": "stream",
     "text": [
      "at epoch 6, val_ap: 0.5875940728592052\n",
      "new max_val_ap\n"
     ]
    },
    {
     "name": "stderr",
     "output_type": "stream",
     "text": [
      "100%|██████████| 17/17 [00:50<00:00,  2.95s/it]\n",
      "100%|██████████| 350/350 [00:17<00:00, 20.30it/s]\n"
     ]
    },
    {
     "name": "stdout",
     "output_type": "stream",
     "text": [
      "at epoch 7, val_ap: 0.5891921603017715\n",
      "new max_val_ap\n"
     ]
    },
    {
     "name": "stderr",
     "output_type": "stream",
     "text": [
      "100%|██████████| 17/17 [00:49<00:00,  2.89s/it]\n",
      "100%|██████████| 350/350 [00:17<00:00, 19.53it/s]\n"
     ]
    },
    {
     "name": "stdout",
     "output_type": "stream",
     "text": [
      "at epoch 8, val_ap: 0.5986474697785772\n",
      "new max_val_ap\n"
     ]
    },
    {
     "name": "stderr",
     "output_type": "stream",
     "text": [
      "100%|██████████| 17/17 [00:50<00:00,  2.98s/it]\n",
      "100%|██████████| 350/350 [00:17<00:00, 20.12it/s]\n"
     ]
    },
    {
     "name": "stdout",
     "output_type": "stream",
     "text": [
      "at epoch 9, val_ap: 0.5991628212491968\n",
      "new max_val_ap\n"
     ]
    },
    {
     "name": "stderr",
     "output_type": "stream",
     "text": [
      "100%|██████████| 17/17 [00:48<00:00,  2.84s/it]\n",
      "100%|██████████| 350/350 [00:17<00:00, 20.09it/s]\n"
     ]
    },
    {
     "name": "stdout",
     "output_type": "stream",
     "text": [
      "at epoch 10, val_ap: 0.6009838927773773\n",
      "new max_val_ap\n"
     ]
    },
    {
     "name": "stderr",
     "output_type": "stream",
     "text": [
      "100%|██████████| 17/17 [00:48<00:00,  2.87s/it]\n",
      "100%|██████████| 350/350 [00:17<00:00, 20.14it/s]\n"
     ]
    },
    {
     "name": "stdout",
     "output_type": "stream",
     "text": [
      "at epoch 11, val_ap: 0.5945281797580428\n"
     ]
    },
    {
     "name": "stderr",
     "output_type": "stream",
     "text": [
      "100%|██████████| 17/17 [00:48<00:00,  2.88s/it]\n",
      "100%|██████████| 350/350 [00:17<00:00, 19.94it/s]\n"
     ]
    },
    {
     "name": "stdout",
     "output_type": "stream",
     "text": [
      "at epoch 12, val_ap: 0.5960073432243409\n"
     ]
    },
    {
     "data": {
      "image/png": "[encoded data removed]",
      "text/plain": [
       "<Figure size 640x480 with 2 Axes>"
      ]
     },
     "metadata": {},
     "output_type": "display_data"
    },
    {
     "name": "stdout",
     "output_type": "stream",
     "text": [
      "val_aps: [0.5562153637257273, 0.5644168900002078, 0.5637608156229212, 0.572640755410655, 0.5722879604772735, 0.5683550531718464, 0.5875940728592052, 0.5891921603017715, 0.5986474697785772, 0.5991628212491968, 0.6009838927773773, 0.5945281797580428, 0.5960073432243409]\n",
      "avg_losses: [2.633598566055298, 2.010188677731682, 1.8248569334254545, 1.7369344444835888, 1.6677035443923052, 1.5945833079955156, 1.2807902167825138, 1.233517562641817, 1.1865989951526417, 1.1591372454867643, 1.1241325210122501, 1.0958075348068685, 1.0776328023742228]\n",
      "load_path: ./runs/taylor2/voc_pruned_3_finetuned.pt\n",
      "model_size: 15.011257\n",
      "num_of_filters_to_prune: 150\n"
     ]
    },
    {
     "name": "stderr",
     "output_type": "stream",
     "text": [
      "100%|██████████| 17/17 [01:37<00:00,  5.71s/it]\n"
     ]
    },
    {
     "name": "stdout",
     "output_type": "stream",
     "text": [
      "[0, 0, 0, 1, 4, 34, 73, 38, 0]\n"
     ]
    },
    {
     "name": "stderr",
     "output_type": "stream",
     "text": [
      "100%|██████████| 350/350 [00:19<00:00, 18.07it/s]\n"
     ]
    },
    {
     "name": "stdout",
     "output_type": "stream",
     "text": [
      "ap_after_pruning: 0.5354395655173833\n"
     ]
    },
    {
     "name": "stderr",
     "output_type": "stream",
     "text": [
      "100%|██████████| 17/17 [00:49<00:00,  2.89s/it]\n",
      "100%|██████████| 350/350 [00:18<00:00, 19.25it/s]\n"
     ]
    },
    {
     "name": "stdout",
     "output_type": "stream",
     "text": [
      "at epoch 0, val_ap: 0.5440745286215217\n",
      "new max_val_ap\n"
     ]
    },
    {
     "name": "stderr",
     "output_type": "stream",
     "text": [
      "100%|██████████| 17/17 [00:48<00:00,  2.88s/it]\n",
      "100%|██████████| 350/350 [00:17<00:00, 19.77it/s]\n"
     ]
    },
    {
     "name": "stdout",
     "output_type": "stream",
     "text": [
      "at epoch 1, val_ap: 0.5580527562371433\n",
      "new max_val_ap\n"
     ]
    },
    {
     "name": "stderr",
     "output_type": "stream",
     "text": [
      "100%|██████████| 17/17 [00:48<00:00,  2.87s/it]\n",
      "100%|██████████| 350/350 [00:17<00:00, 20.29it/s]\n"
     ]
    },
    {
     "name": "stdout",
     "output_type": "stream",
     "text": [
      "at epoch 2, val_ap: 0.5707092215663448\n",
      "new max_val_ap\n"
     ]
    },
    {
     "name": "stderr",
     "output_type": "stream",
     "text": [
      "100%|██████████| 17/17 [00:48<00:00,  2.87s/it]\n",
      "100%|██████████| 350/350 [00:17<00:00, 20.18it/s]\n"
     ]
    },
    {
     "name": "stdout",
     "output_type": "stream",
     "text": [
      "at epoch 3, val_ap: 0.5674917074918773\n"
     ]
    },
    {
     "name": "stderr",
     "output_type": "stream",
     "text": [
      "100%|██████████| 17/17 [00:48<00:00,  2.83s/it]\n",
      "100%|██████████| 350/350 [00:17<00:00, 20.49it/s]\n"
     ]
    },
    {
     "name": "stdout",
     "output_type": "stream",
     "text": [
      "at epoch 4, val_ap: 0.5716392834207756\n",
      "new max_val_ap\n"
     ]
    },
    {
     "name": "stderr",
     "output_type": "stream",
     "text": [
      "100%|██████████| 17/17 [00:47<00:00,  2.82s/it]\n",
      "100%|██████████| 350/350 [00:17<00:00, 20.48it/s]\n"
     ]
    },
    {
     "name": "stdout",
     "output_type": "stream",
     "text": [
      "at epoch 5, val_ap: 0.5679909893272174\n"
     ]
    },
    {
     "name": "stderr",
     "output_type": "stream",
     "text": [
      "100%|██████████| 17/17 [00:49<00:00,  2.89s/it]\n",
      "100%|██████████| 350/350 [00:17<00:00, 20.39it/s]\n"
     ]
    },
    {
     "name": "stdout",
     "output_type": "stream",
     "text": [
      "at epoch 6, val_ap: 0.5908223447725979\n",
      "new max_val_ap\n"
     ]
    },
    {
     "name": "stderr",
     "output_type": "stream",
     "text": [
      "100%|██████████| 17/17 [00:49<00:00,  2.90s/it]\n",
      "100%|██████████| 350/350 [00:17<00:00, 20.44it/s]\n"
     ]
    },
    {
     "name": "stdout",
     "output_type": "stream",
     "text": [
      "at epoch 7, val_ap: 0.5925906985748552\n",
      "new max_val_ap\n"
     ]
    },
    {
     "name": "stderr",
     "output_type": "stream",
     "text": [
      "100%|██████████| 17/17 [00:49<00:00,  2.92s/it]\n",
      "100%|██████████| 350/350 [00:17<00:00, 20.10it/s]\n"
     ]
    },
    {
     "name": "stdout",
     "output_type": "stream",
     "text": [
      "at epoch 8, val_ap: 0.5940786465783762\n",
      "new max_val_ap\n"
     ]
    },
    {
     "name": "stderr",
     "output_type": "stream",
     "text": [
      "100%|██████████| 17/17 [00:48<00:00,  2.84s/it]\n",
      "100%|██████████| 350/350 [00:18<00:00, 19.43it/s]\n"
     ]
    },
    {
     "name": "stdout",
     "output_type": "stream",
     "text": [
      "at epoch 9, val_ap: 0.5945709561812522\n",
      "new max_val_ap\n"
     ]
    },
    {
     "name": "stderr",
     "output_type": "stream",
     "text": [
      "100%|██████████| 17/17 [00:49<00:00,  2.92s/it]\n",
      "100%|██████████| 350/350 [00:17<00:00, 19.51it/s]\n"
     ]
    },
    {
     "name": "stdout",
     "output_type": "stream",
     "text": [
      "at epoch 10, val_ap: 0.5928097097309977\n"
     ]
    },
    {
     "name": "stderr",
     "output_type": "stream",
     "text": [
      "100%|██████████| 17/17 [00:49<00:00,  2.91s/it]\n",
      "100%|██████████| 350/350 [00:18<00:00, 19.29it/s]\n"
     ]
    },
    {
     "name": "stdout",
     "output_type": "stream",
     "text": [
      "at epoch 11, val_ap: 0.5968503033814281\n",
      "new max_val_ap\n"
     ]
    },
    {
     "name": "stderr",
     "output_type": "stream",
     "text": [
      "100%|██████████| 17/17 [00:49<00:00,  2.92s/it]\n",
      "100%|██████████| 350/350 [00:18<00:00, 19.26it/s]\n"
     ]
    },
    {
     "name": "stdout",
     "output_type": "stream",
     "text": [
      "at epoch 12, val_ap: 0.6059839059859388\n",
      "new max_val_ap\n"
     ]
    },
    {
     "data": {
      "image/png": "[encoded data removed]",
      "text/plain": [
       "<Figure size 640x480 with 2 Axes>"
      ]
     },
     "metadata": {},
     "output_type": "display_data"
    },
    {
     "name": "stdout",
     "output_type": "stream",
     "text": [
      "val_aps: [0.5440745286215217, 0.5580527562371433, 0.5707092215663448, 0.5674917074918773, 0.5716392834207756, 0.5679909893272174, 0.5908223447725979, 0.5925906985748552, 0.5940786465783762, 0.5945709561812522, 0.5928097097309977, 0.5968503033814281, 0.6059839059859388]\n",
      "avg_losses: [2.243581820936764, 1.9193774531869328, 1.7995063487221212, 1.7238095507902258, 1.6710813746732824, 1.602797367993523, 1.293131898431217, 1.2476947868571562, 1.208223952966578, 1.171547433909248, 1.1491099455777336, 1.1165908224442427, 1.0971178342314327]\n",
      "load_path: ./runs/taylor2/voc_pruned_4_finetuned.pt\n",
      "model_size: 11.890426\n",
      "num_of_filters_to_prune: 118\n"
     ]
    },
    {
     "name": "stderr",
     "output_type": "stream",
     "text": [
      "100%|██████████| 17/17 [01:40<00:00,  5.90s/it]\n"
     ]
    },
    {
     "name": "stdout",
     "output_type": "stream",
     "text": [
      "[0, 0, 0, 0, 15, 33, 64, 6, 0]\n"
     ]
    },
    {
     "name": "stderr",
     "output_type": "stream",
     "text": [
      "100%|██████████| 350/350 [00:17<00:00, 20.11it/s]\n"
     ]
    },
    {
     "name": "stdout",
     "output_type": "stream",
     "text": [
      "ap_after_pruning: 0.4925387588686162\n"
     ]
    },
    {
     "name": "stderr",
     "output_type": "stream",
     "text": [
      "100%|██████████| 17/17 [00:46<00:00,  2.73s/it]\n",
      "100%|██████████| 350/350 [00:17<00:00, 20.35it/s]\n"
     ]
    },
    {
     "name": "stdout",
     "output_type": "stream",
     "text": [
      "at epoch 0, val_ap: 0.5680866598338101\n",
      "new max_val_ap\n"
     ]
    },
    {
     "name": "stderr",
     "output_type": "stream",
     "text": [
      "100%|██████████| 17/17 [00:46<00:00,  2.75s/it]\n",
      "100%|██████████| 350/350 [00:17<00:00, 20.25it/s]\n"
     ]
    },
    {
     "name": "stdout",
     "output_type": "stream",
     "text": [
      "at epoch 1, val_ap: 0.5624677003904301\n"
     ]
    },
    {
     "name": "stderr",
     "output_type": "stream",
     "text": [
      "100%|██████████| 17/17 [00:46<00:00,  2.72s/it]\n",
      "100%|██████████| 350/350 [00:16<00:00, 20.70it/s]\n"
     ]
    },
    {
     "name": "stdout",
     "output_type": "stream",
     "text": [
      "at epoch 2, val_ap: 0.5692943375115072\n",
      "new max_val_ap\n"
     ]
    },
    {
     "name": "stderr",
     "output_type": "stream",
     "text": [
      "100%|██████████| 17/17 [00:45<00:00,  2.65s/it]\n",
      "100%|██████████| 350/350 [00:16<00:00, 20.71it/s]\n"
     ]
    },
    {
     "name": "stdout",
     "output_type": "stream",
     "text": [
      "at epoch 3, val_ap: 0.5801095565378703\n",
      "new max_val_ap\n"
     ]
    },
    {
     "name": "stderr",
     "output_type": "stream",
     "text": [
      "100%|██████████| 17/17 [00:45<00:00,  2.68s/it]\n",
      "100%|██████████| 350/350 [00:16<00:00, 21.00it/s]\n"
     ]
    },
    {
     "name": "stdout",
     "output_type": "stream",
     "text": [
      "at epoch 4, val_ap: 0.5420254228631319\n"
     ]
    },
    {
     "name": "stderr",
     "output_type": "stream",
     "text": [
      "100%|██████████| 17/17 [00:46<00:00,  2.71s/it]\n",
      "100%|██████████| 350/350 [00:16<00:00, 21.20it/s]\n"
     ]
    },
    {
     "name": "stdout",
     "output_type": "stream",
     "text": [
      "at epoch 5, val_ap: 0.5357411988206155\n"
     ]
    },
    {
     "name": "stderr",
     "output_type": "stream",
     "text": [
      "100%|██████████| 17/17 [00:45<00:00,  2.68s/it]\n",
      "100%|██████████| 350/350 [00:16<00:00, 20.63it/s]\n"
     ]
    },
    {
     "name": "stdout",
     "output_type": "stream",
     "text": [
      "at epoch 6, val_ap: 0.5595516969497791\n"
     ]
    },
    {
     "name": "stderr",
     "output_type": "stream",
     "text": [
      "100%|██████████| 17/17 [00:46<00:00,  2.71s/it]\n",
      "100%|██████████| 350/350 [00:16<00:00, 21.20it/s]\n"
     ]
    },
    {
     "name": "stdout",
     "output_type": "stream",
     "text": [
      "at epoch 7, val_ap: 0.5995833611836221\n",
      "new max_val_ap\n"
     ]
    },
    {
     "name": "stderr",
     "output_type": "stream",
     "text": [
      "100%|██████████| 17/17 [00:46<00:00,  2.74s/it]\n",
      "100%|██████████| 350/350 [00:17<00:00, 20.45it/s]\n"
     ]
    },
    {
     "name": "stdout",
     "output_type": "stream",
     "text": [
      "at epoch 8, val_ap: 0.5997381741225273\n",
      "new max_val_ap\n"
     ]
    },
    {
     "name": "stderr",
     "output_type": "stream",
     "text": [
      "100%|██████████| 17/17 [00:46<00:00,  2.76s/it]\n",
      "100%|██████████| 350/350 [00:17<00:00, 20.55it/s]\n"
     ]
    },
    {
     "name": "stdout",
     "output_type": "stream",
     "text": [
      "at epoch 9, val_ap: 0.5973878478221444\n"
     ]
    },
    {
     "name": "stderr",
     "output_type": "stream",
     "text": [
      "100%|██████████| 17/17 [00:47<00:00,  2.78s/it]\n",
      "100%|██████████| 350/350 [00:17<00:00, 20.19it/s]\n"
     ]
    },
    {
     "name": "stdout",
     "output_type": "stream",
     "text": [
      "at epoch 10, val_ap: 0.5930932448089311\n"
     ]
    },
    {
     "name": "stderr",
     "output_type": "stream",
     "text": [
      "100%|██████████| 17/17 [00:46<00:00,  2.76s/it]\n",
      "100%|██████████| 350/350 [00:17<00:00, 20.18it/s]\n"
     ]
    },
    {
     "name": "stdout",
     "output_type": "stream",
     "text": [
      "at epoch 11, val_ap: 0.594851327496853\n"
     ]
    },
    {
     "name": "stderr",
     "output_type": "stream",
     "text": [
      "100%|██████████| 17/17 [00:45<00:00,  2.70s/it]\n",
      "100%|██████████| 350/350 [00:17<00:00, 20.24it/s]\n"
     ]
    },
    {
     "name": "stdout",
     "output_type": "stream",
     "text": [
      "at epoch 12, val_ap: 0.5971500858514903\n"
     ]
    },
    {
     "data": {
      "image/png": "[encoded data removed]",
      "text/plain": [
       "<Figure size 640x480 with 2 Axes>"
      ]
     },
     "metadata": {},
     "output_type": "display_data"
    },
    {
     "name": "stdout",
     "output_type": "stream",
     "text": [
      "val_aps: [0.5680866598338101, 0.5624677003904301, 0.5692943375115072, 0.5801095565378703, 0.5420254228631319, 0.5357411988206155, 0.5595516969497791, 0.5995833611836221, 0.5997381741225273, 0.5973878478221444, 0.5930932448089311, 0.594851327496853, 0.5971500858514903]\n",
      "avg_losses: [2.06640728782205, 1.7353111014646643, 1.6461446285247803, 1.5854694001814897, 1.5434759013793047, 1.495698381872738, 1.1824367256725536, 1.1413978338241577, 1.114488521042992, 1.0871821501675774, 1.0613573474042557, 1.0479566034148722, 1.0219792092547697]\n",
      "load_path: ./runs/taylor2/voc_pruned_5_finetuned.pt\n",
      "model_size: 9.584221\n",
      "num_of_filters_to_prune: 95\n"
     ]
    },
    {
     "name": "stderr",
     "output_type": "stream",
     "text": [
      "100%|██████████| 17/17 [01:35<00:00,  5.64s/it]\n"
     ]
    },
    {
     "name": "stdout",
     "output_type": "stream",
     "text": [
      "[0, 0, 0, 1, 9, 30, 40, 15, 0]\n"
     ]
    },
    {
     "name": "stderr",
     "output_type": "stream",
     "text": [
      "100%|██████████| 350/350 [00:17<00:00, 20.04it/s]\n"
     ]
    },
    {
     "name": "stdout",
     "output_type": "stream",
     "text": [
      "ap_after_pruning: 0.5299078569212976\n"
     ]
    },
    {
     "name": "stderr",
     "output_type": "stream",
     "text": [
      "100%|██████████| 17/17 [00:47<00:00,  2.78s/it]\n",
      "100%|██████████| 350/350 [00:17<00:00, 20.39it/s]\n"
     ]
    },
    {
     "name": "stdout",
     "output_type": "stream",
     "text": [
      "at epoch 0, val_ap: 0.5555920205249772\n",
      "new max_val_ap\n"
     ]
    },
    {
     "name": "stderr",
     "output_type": "stream",
     "text": [
      "100%|██████████| 17/17 [00:47<00:00,  2.79s/it]\n",
      "100%|██████████| 350/350 [00:17<00:00, 20.51it/s]\n"
     ]
    },
    {
     "name": "stdout",
     "output_type": "stream",
     "text": [
      "at epoch 1, val_ap: 0.5655218520541649\n",
      "new max_val_ap\n"
     ]
    },
    {
     "name": "stderr",
     "output_type": "stream",
     "text": [
      "100%|██████████| 17/17 [00:45<00:00,  2.69s/it]\n",
      "100%|██████████| 350/350 [00:17<00:00, 20.25it/s]\n"
     ]
    },
    {
     "name": "stdout",
     "output_type": "stream",
     "text": [
      "at epoch 2, val_ap: 0.5708373573020108\n",
      "new max_val_ap\n"
     ]
    },
    {
     "name": "stderr",
     "output_type": "stream",
     "text": [
      "100%|██████████| 17/17 [00:45<00:00,  2.70s/it]\n",
      "100%|██████████| 350/350 [00:16<00:00, 20.61it/s]\n"
     ]
    },
    {
     "name": "stdout",
     "output_type": "stream",
     "text": [
      "at epoch 3, val_ap: 0.5353285380451658\n"
     ]
    },
    {
     "name": "stderr",
     "output_type": "stream",
     "text": [
      "100%|██████████| 17/17 [00:45<00:00,  2.68s/it]\n",
      "100%|██████████| 350/350 [00:17<00:00, 20.51it/s]\n"
     ]
    },
    {
     "name": "stdout",
     "output_type": "stream",
     "text": [
      "at epoch 4, val_ap: 0.5385346991482947\n"
     ]
    },
    {
     "name": "stderr",
     "output_type": "stream",
     "text": [
      "100%|██████████| 17/17 [00:46<00:00,  2.74s/it]\n",
      "100%|██████████| 350/350 [00:17<00:00, 20.22it/s]\n"
     ]
    },
    {
     "name": "stdout",
     "output_type": "stream",
     "text": [
      "at epoch 5, val_ap: 0.5288429826732126\n"
     ]
    },
    {
     "name": "stderr",
     "output_type": "stream",
     "text": [
      "100%|██████████| 17/17 [00:46<00:00,  2.75s/it]\n",
      "100%|██████████| 350/350 [00:17<00:00, 20.30it/s]\n"
     ]
    },
    {
     "name": "stdout",
     "output_type": "stream",
     "text": [
      "at epoch 6, val_ap: 0.5770771854556412\n",
      "new max_val_ap\n"
     ]
    },
    {
     "name": "stderr",
     "output_type": "stream",
     "text": [
      "100%|██████████| 17/17 [00:45<00:00,  2.70s/it]\n",
      "100%|██████████| 350/350 [00:16<00:00, 20.64it/s]\n"
     ]
    },
    {
     "name": "stdout",
     "output_type": "stream",
     "text": [
      "at epoch 7, val_ap: 0.586750124862228\n",
      "new max_val_ap\n"
     ]
    },
    {
     "name": "stderr",
     "output_type": "stream",
     "text": [
      "100%|██████████| 17/17 [00:44<00:00,  2.60s/it]\n",
      "100%|██████████| 350/350 [00:17<00:00, 20.47it/s]\n"
     ]
    },
    {
     "name": "stdout",
     "output_type": "stream",
     "text": [
      "at epoch 8, val_ap: 0.594196305310036\n",
      "new max_val_ap\n"
     ]
    },
    {
     "name": "stderr",
     "output_type": "stream",
     "text": [
      "100%|██████████| 17/17 [00:45<00:00,  2.71s/it]\n",
      "100%|██████████| 350/350 [00:17<00:00, 20.19it/s]\n"
     ]
    },
    {
     "name": "stdout",
     "output_type": "stream",
     "text": [
      "at epoch 9, val_ap: 0.5815965181938606\n"
     ]
    },
    {
     "name": "stderr",
     "output_type": "stream",
     "text": [
      "100%|██████████| 17/17 [00:45<00:00,  2.67s/it]\n",
      "100%|██████████| 350/350 [00:17<00:00, 20.18it/s]\n"
     ]
    },
    {
     "name": "stdout",
     "output_type": "stream",
     "text": [
      "at epoch 10, val_ap: 0.5937882359716653\n"
     ]
    },
    {
     "name": "stderr",
     "output_type": "stream",
     "text": [
      "100%|██████████| 17/17 [00:45<00:00,  2.68s/it]\n",
      "100%|██████████| 350/350 [00:18<00:00, 19.26it/s]\n"
     ]
    },
    {
     "name": "stdout",
     "output_type": "stream",
     "text": [
      "at epoch 11, val_ap: 0.5954849547028723\n",
      "new max_val_ap\n"
     ]
    },
    {
     "name": "stderr",
     "output_type": "stream",
     "text": [
      "100%|██████████| 17/17 [00:46<00:00,  2.73s/it]\n",
      "100%|██████████| 350/350 [00:18<00:00, 19.26it/s]\n"
     ]
    },
    {
     "name": "stdout",
     "output_type": "stream",
     "text": [
      "at epoch 12, val_ap: 0.5941310861528758\n"
     ]
    },
    {
     "data": {
      "image/png": "[encoded data removed]",
      "text/plain": [
       "<Figure size 640x480 with 2 Axes>"
      ]
     },
     "metadata": {},
     "output_type": "display_data"
    },
    {
     "name": "stdout",
     "output_type": "stream",
     "text": [
      "val_aps: [0.5555920205249772, 0.5655218520541649, 0.5708373573020108, 0.5353285380451658, 0.5385346991482947, 0.5288429826732126, 0.5770771854556412, 0.586750124862228, 0.594196305310036, 0.5815965181938606, 0.5937882359716653, 0.5954849547028723, 0.5941310861528758]\n",
      "avg_losses: [1.9269443189396578, 1.7010495522442985, 1.6433939372791964, 1.5934648163178389, 1.5537833676618689, 1.5131159459843355, 1.2218552897958195, 1.1866097239887012, 1.1552119395312141, 1.1368822560590857, 1.1119862233891207, 1.080669006880592, 1.0651197047794567]\n",
      "load_path: ./runs/taylor2/voc_pruned_6_finetuned.pt\n",
      "model_size: 7.968716\n",
      "num_of_filters_to_prune: 79\n"
     ]
    },
    {
     "name": "stderr",
     "output_type": "stream",
     "text": [
      "100%|██████████| 17/17 [01:37<00:00,  5.75s/it]\n"
     ]
    },
    {
     "name": "stdout",
     "output_type": "stream",
     "text": [
      "[1, 0, 0, 1, 11, 20, 36, 10, 0]\n"
     ]
    },
    {
     "name": "stderr",
     "output_type": "stream",
     "text": [
      "100%|██████████| 350/350 [00:17<00:00, 19.95it/s]\n"
     ]
    },
    {
     "name": "stdout",
     "output_type": "stream",
     "text": [
      "ap_after_pruning: 0.4409549639345048\n"
     ]
    },
    {
     "name": "stderr",
     "output_type": "stream",
     "text": [
      "100%|██████████| 17/17 [00:46<00:00,  2.71s/it]\n",
      "100%|██████████| 350/350 [00:16<00:00, 20.64it/s]\n"
     ]
    },
    {
     "name": "stdout",
     "output_type": "stream",
     "text": [
      "at epoch 0, val_ap: 0.5076786657805225\n",
      "new max_val_ap\n"
     ]
    },
    {
     "name": "stderr",
     "output_type": "stream",
     "text": [
      "100%|██████████| 17/17 [00:46<00:00,  2.72s/it]\n",
      "100%|██████████| 350/350 [00:16<00:00, 20.77it/s]\n"
     ]
    },
    {
     "name": "stdout",
     "output_type": "stream",
     "text": [
      "at epoch 1, val_ap: 0.5278253488362289\n",
      "new max_val_ap\n"
     ]
    },
    {
     "name": "stderr",
     "output_type": "stream",
     "text": [
      "100%|██████████| 17/17 [00:46<00:00,  2.71s/it]\n",
      "100%|██████████| 350/350 [00:17<00:00, 20.46it/s]\n"
     ]
    },
    {
     "name": "stdout",
     "output_type": "stream",
     "text": [
      "at epoch 2, val_ap: 0.5243765793235934\n"
     ]
    },
    {
     "name": "stderr",
     "output_type": "stream",
     "text": [
      "100%|██████████| 17/17 [00:46<00:00,  2.71s/it]\n",
      "100%|██████████| 350/350 [00:16<00:00, 20.96it/s]\n"
     ]
    },
    {
     "name": "stdout",
     "output_type": "stream",
     "text": [
      "at epoch 3, val_ap: 0.5298394291622249\n",
      "new max_val_ap\n"
     ]
    },
    {
     "name": "stderr",
     "output_type": "stream",
     "text": [
      "100%|██████████| 17/17 [00:45<00:00,  2.67s/it]\n",
      "100%|██████████| 350/350 [00:16<00:00, 20.69it/s]\n"
     ]
    },
    {
     "name": "stdout",
     "output_type": "stream",
     "text": [
      "at epoch 4, val_ap: 0.5300598848844462\n",
      "new max_val_ap\n"
     ]
    },
    {
     "name": "stderr",
     "output_type": "stream",
     "text": [
      "100%|██████████| 17/17 [00:46<00:00,  2.72s/it]\n",
      "100%|██████████| 350/350 [00:16<00:00, 20.74it/s]\n"
     ]
    },
    {
     "name": "stdout",
     "output_type": "stream",
     "text": [
      "at epoch 5, val_ap: 0.532891688220954\n",
      "new max_val_ap\n"
     ]
    },
    {
     "name": "stderr",
     "output_type": "stream",
     "text": [
      "100%|██████████| 17/17 [00:45<00:00,  2.69s/it]\n",
      "100%|██████████| 350/350 [00:16<00:00, 20.89it/s]\n"
     ]
    },
    {
     "name": "stdout",
     "output_type": "stream",
     "text": [
      "at epoch 6, val_ap: 0.5314663061339931\n"
     ]
    },
    {
     "name": "stderr",
     "output_type": "stream",
     "text": [
      "100%|██████████| 17/17 [00:45<00:00,  2.70s/it]\n",
      "100%|██████████| 350/350 [00:17<00:00, 20.57it/s]\n"
     ]
    },
    {
     "name": "stdout",
     "output_type": "stream",
     "text": [
      "at epoch 7, val_ap: 0.5312988571642946\n"
     ]
    },
    {
     "name": "stderr",
     "output_type": "stream",
     "text": [
      "100%|██████████| 17/17 [00:46<00:00,  2.72s/it]\n",
      "100%|██████████| 350/350 [00:17<00:00, 19.87it/s]\n"
     ]
    },
    {
     "name": "stdout",
     "output_type": "stream",
     "text": [
      "at epoch 8, val_ap: 0.5319737774671729\n"
     ]
    },
    {
     "name": "stderr",
     "output_type": "stream",
     "text": [
      "100%|██████████| 17/17 [00:45<00:00,  2.69s/it]\n",
      "100%|██████████| 350/350 [00:17<00:00, 20.40it/s]\n"
     ]
    },
    {
     "name": "stdout",
     "output_type": "stream",
     "text": [
      "at epoch 9, val_ap: 0.5416627003340172\n",
      "new max_val_ap\n"
     ]
    },
    {
     "name": "stderr",
     "output_type": "stream",
     "text": [
      "100%|██████████| 17/17 [00:45<00:00,  2.69s/it]\n",
      "100%|██████████| 350/350 [00:17<00:00, 20.33it/s]\n"
     ]
    },
    {
     "name": "stdout",
     "output_type": "stream",
     "text": [
      "at epoch 10, val_ap: 0.5399131637858541\n"
     ]
    },
    {
     "name": "stderr",
     "output_type": "stream",
     "text": [
      "100%|██████████| 17/17 [00:45<00:00,  2.69s/it]\n",
      "100%|██████████| 350/350 [00:17<00:00, 20.08it/s]\n"
     ]
    },
    {
     "name": "stdout",
     "output_type": "stream",
     "text": [
      "at epoch 11, val_ap: 0.5396822269920246\n"
     ]
    },
    {
     "name": "stderr",
     "output_type": "stream",
     "text": [
      "100%|██████████| 17/17 [00:45<00:00,  2.70s/it]\n",
      "100%|██████████| 350/350 [00:17<00:00, 20.10it/s]\n"
     ]
    },
    {
     "name": "stdout",
     "output_type": "stream",
     "text": [
      "at epoch 12, val_ap: 0.5453894079054605\n",
      "new max_val_ap\n"
     ]
    },
    {
     "data": {
      "image/png": "[encoded data removed]",
      "text/plain": [
       "<Figure size 640x480 with 2 Axes>"
      ]
     },
     "metadata": {},
     "output_type": "display_data"
    },
    {
     "name": "stdout",
     "output_type": "stream",
     "text": [
      "val_aps: [0.5076786657805225, 0.5278253488362289, 0.5243765793235934, 0.5298394291622249, 0.5300598848844462, 0.532891688220954, 0.5314663061339931, 0.5312988571642946, 0.5319737774671729, 0.5416627003340172, 0.5399131637858541, 0.5396822269920246, 0.5453894079054605]\n",
      "avg_losses: [2.068159454009112, 1.7344629624310661, 1.653236753800336, 1.6141763855429256, 1.5761927997364718, 1.5429194043664372, 1.2409166658625883, 1.1942811783622294, 1.162395112654742, 1.140940448817085, 1.1176275365492876, 1.0986919438137728, 1.08159638152403]\n",
      "load_path: ./runs/taylor2/voc_pruned_7_finetuned.pt\n",
      "model_size: 6.762923\n",
      "num_of_filters_to_prune: 67\n"
     ]
    },
    {
     "name": "stderr",
     "output_type": "stream",
     "text": [
      "100%|██████████| 17/17 [01:34<00:00,  5.55s/it]\n"
     ]
    },
    {
     "name": "stdout",
     "output_type": "stream",
     "text": [
      "[0, 0, 0, 2, 11, 20, 30, 4, 0]\n"
     ]
    },
    {
     "name": "stderr",
     "output_type": "stream",
     "text": [
      "100%|██████████| 350/350 [00:17<00:00, 20.56it/s]\n"
     ]
    },
    {
     "name": "stdout",
     "output_type": "stream",
     "text": [
      "ap_after_pruning: 0.5036659144103287\n"
     ]
    },
    {
     "name": "stderr",
     "output_type": "stream",
     "text": [
      "100%|██████████| 17/17 [00:45<00:00,  2.66s/it]\n",
      "100%|██████████| 350/350 [00:16<00:00, 20.88it/s]\n"
     ]
    },
    {
     "name": "stdout",
     "output_type": "stream",
     "text": [
      "at epoch 0, val_ap: 0.49845303375976324\n"
     ]
    },
    {
     "name": "stderr",
     "output_type": "stream",
     "text": [
      "100%|██████████| 17/17 [00:45<00:00,  2.70s/it]\n",
      "100%|██████████| 350/350 [00:16<00:00, 20.95it/s]\n"
     ]
    },
    {
     "name": "stdout",
     "output_type": "stream",
     "text": [
      "at epoch 1, val_ap: 0.5039258594153435\n",
      "new max_val_ap\n"
     ]
    },
    {
     "name": "stderr",
     "output_type": "stream",
     "text": [
      "100%|██████████| 17/17 [00:45<00:00,  2.70s/it]\n",
      "100%|██████████| 350/350 [00:16<00:00, 21.05it/s]\n"
     ]
    },
    {
     "name": "stdout",
     "output_type": "stream",
     "text": [
      "at epoch 2, val_ap: 0.5056449759787046\n",
      "new max_val_ap\n"
     ]
    },
    {
     "name": "stderr",
     "output_type": "stream",
     "text": [
      "100%|██████████| 17/17 [00:45<00:00,  2.67s/it]\n",
      "100%|██████████| 350/350 [00:16<00:00, 20.99it/s]\n"
     ]
    },
    {
     "name": "stdout",
     "output_type": "stream",
     "text": [
      "at epoch 3, val_ap: 0.5074141951180254\n",
      "new max_val_ap\n"
     ]
    },
    {
     "name": "stderr",
     "output_type": "stream",
     "text": [
      "100%|██████████| 17/17 [00:45<00:00,  2.70s/it]\n",
      "100%|██████████| 350/350 [00:17<00:00, 20.57it/s]\n"
     ]
    },
    {
     "name": "stdout",
     "output_type": "stream",
     "text": [
      "at epoch 4, val_ap: 0.5035377376942921\n"
     ]
    },
    {
     "name": "stderr",
     "output_type": "stream",
     "text": [
      "100%|██████████| 17/17 [00:46<00:00,  2.71s/it]\n",
      "100%|██████████| 350/350 [00:16<00:00, 20.74it/s]\n"
     ]
    },
    {
     "name": "stdout",
     "output_type": "stream",
     "text": [
      "at epoch 5, val_ap: 0.5231358265563281\n",
      "new max_val_ap\n"
     ]
    },
    {
     "name": "stderr",
     "output_type": "stream",
     "text": [
      "100%|██████████| 17/17 [00:45<00:00,  2.68s/it]\n",
      "100%|██████████| 350/350 [00:16<00:00, 20.83it/s]\n"
     ]
    },
    {
     "name": "stdout",
     "output_type": "stream",
     "text": [
      "at epoch 6, val_ap: 0.5064219701608343\n"
     ]
    },
    {
     "name": "stderr",
     "output_type": "stream",
     "text": [
      "100%|██████████| 17/17 [00:45<00:00,  2.68s/it]\n",
      "100%|██████████| 350/350 [00:17<00:00, 20.56it/s]\n"
     ]
    },
    {
     "name": "stdout",
     "output_type": "stream",
     "text": [
      "at epoch 7, val_ap: 0.5037183131702324\n"
     ]
    },
    {
     "name": "stderr",
     "output_type": "stream",
     "text": [
      "100%|██████████| 17/17 [00:46<00:00,  2.75s/it]\n",
      "100%|██████████| 350/350 [00:16<00:00, 20.74it/s]\n"
     ]
    },
    {
     "name": "stdout",
     "output_type": "stream",
     "text": [
      "at epoch 8, val_ap: 0.5001526772284817\n"
     ]
    },
    {
     "name": "stderr",
     "output_type": "stream",
     "text": [
      "100%|██████████| 17/17 [00:45<00:00,  2.70s/it]\n",
      "100%|██████████| 350/350 [00:16<00:00, 20.63it/s]\n"
     ]
    },
    {
     "name": "stdout",
     "output_type": "stream",
     "text": [
      "at epoch 9, val_ap: 0.5016039664379757\n"
     ]
    },
    {
     "name": "stderr",
     "output_type": "stream",
     "text": [
      "100%|██████████| 17/17 [00:44<00:00,  2.62s/it]\n",
      "100%|██████████| 350/350 [00:16<00:00, 21.67it/s]\n"
     ]
    },
    {
     "name": "stdout",
     "output_type": "stream",
     "text": [
      "at epoch 10, val_ap: 0.5332229622190904\n",
      "new max_val_ap\n"
     ]
    },
    {
     "name": "stderr",
     "output_type": "stream",
     "text": [
      "100%|██████████| 17/17 [00:42<00:00,  2.52s/it]\n",
      "100%|██████████| 350/350 [00:16<00:00, 20.81it/s]\n"
     ]
    },
    {
     "name": "stdout",
     "output_type": "stream",
     "text": [
      "at epoch 11, val_ap: 0.5058312487876839\n"
     ]
    },
    {
     "name": "stderr",
     "output_type": "stream",
     "text": [
      "100%|██████████| 17/17 [00:46<00:00,  2.76s/it]\n",
      "100%|██████████| 350/350 [00:17<00:00, 20.15it/s]\n"
     ]
    },
    {
     "name": "stdout",
     "output_type": "stream",
     "text": [
      "at epoch 12, val_ap: 0.5125857179350556\n"
     ]
    },
    {
     "data": {
      "image/png": "[encoded data removed]",
      "text/plain": [
       "<Figure size 640x480 with 2 Axes>"
      ]
     },
     "metadata": {},
     "output_type": "display_data"
    },
    {
     "name": "stdout",
     "output_type": "stream",
     "text": [
      "val_aps: [0.49845303375976324, 0.5039258594153435, 0.5056449759787046, 0.5074141951180254, 0.5035377376942921, 0.5231358265563281, 0.5064219701608343, 0.5037183131702324, 0.5001526772284817, 0.5016039664379757, 0.5332229622190904, 0.5058312487876839, 0.5125857179350556]\n",
      "avg_losses: [1.9391312529059017, 1.6987046003341675, 1.6294731602949255, 1.5943350090700037, 1.5603503409553976, 1.517259857233833, 1.2221891319050509, 1.1835885538774378, 1.147924640599419, 1.1264400131562178, 1.1093947396558874, 1.0931361773434807, 1.0829168663305395]\n",
      "load_path: ./runs/taylor2/voc_pruned_8_finetuned.pt\n",
      "model_size: 5.783516\n",
      "num_of_filters_to_prune: 57\n"
     ]
    },
    {
     "name": "stderr",
     "output_type": "stream",
     "text": [
      "100%|██████████| 17/17 [01:44<00:00,  6.12s/it]\n"
     ]
    },
    {
     "name": "stdout",
     "output_type": "stream",
     "text": [
      "[0, 0, 0, 4, 12, 15, 24, 2, 0]\n"
     ]
    },
    {
     "name": "stderr",
     "output_type": "stream",
     "text": [
      "100%|██████████| 350/350 [00:17<00:00, 19.90it/s]\n"
     ]
    },
    {
     "name": "stdout",
     "output_type": "stream",
     "text": [
      "ap_after_pruning: 0.48854375513503895\n"
     ]
    },
    {
     "name": "stderr",
     "output_type": "stream",
     "text": [
      "100%|██████████| 17/17 [00:47<00:00,  2.81s/it]\n",
      "100%|██████████| 350/350 [00:16<00:00, 21.00it/s]\n"
     ]
    },
    {
     "name": "stdout",
     "output_type": "stream",
     "text": [
      "at epoch 0, val_ap: 0.514569200234578\n",
      "new max_val_ap\n"
     ]
    },
    {
     "name": "stderr",
     "output_type": "stream",
     "text": [
      "100%|██████████| 17/17 [00:45<00:00,  2.67s/it]\n",
      "100%|██████████| 350/350 [00:16<00:00, 20.88it/s]\n"
     ]
    },
    {
     "name": "stdout",
     "output_type": "stream",
     "text": [
      "at epoch 1, val_ap: 0.5238608173961662\n",
      "new max_val_ap\n"
     ]
    },
    {
     "name": "stderr",
     "output_type": "stream",
     "text": [
      "100%|██████████| 17/17 [00:45<00:00,  2.66s/it]\n",
      "100%|██████████| 350/350 [00:16<00:00, 20.96it/s]\n"
     ]
    },
    {
     "name": "stdout",
     "output_type": "stream",
     "text": [
      "at epoch 2, val_ap: 0.5039349310161518\n"
     ]
    },
    {
     "name": "stderr",
     "output_type": "stream",
     "text": [
      "100%|██████████| 17/17 [00:44<00:00,  2.64s/it]\n",
      "100%|██████████| 350/350 [00:16<00:00, 20.76it/s]\n"
     ]
    },
    {
     "name": "stdout",
     "output_type": "stream",
     "text": [
      "at epoch 3, val_ap: 0.4995545570593562\n"
     ]
    },
    {
     "name": "stderr",
     "output_type": "stream",
     "text": [
      "100%|██████████| 17/17 [00:44<00:00,  2.65s/it]\n",
      "100%|██████████| 350/350 [00:16<00:00, 20.82it/s]\n"
     ]
    },
    {
     "name": "stdout",
     "output_type": "stream",
     "text": [
      "at epoch 4, val_ap: 0.4976457216052092\n"
     ]
    },
    {
     "name": "stderr",
     "output_type": "stream",
     "text": [
      "100%|██████████| 17/17 [00:44<00:00,  2.64s/it]\n",
      "100%|██████████| 350/350 [00:16<00:00, 20.67it/s]\n"
     ]
    },
    {
     "name": "stdout",
     "output_type": "stream",
     "text": [
      "at epoch 5, val_ap: 0.49736436671457157\n"
     ]
    },
    {
     "name": "stderr",
     "output_type": "stream",
     "text": [
      "100%|██████████| 17/17 [00:44<00:00,  2.63s/it]\n",
      "100%|██████████| 350/350 [00:16<00:00, 20.79it/s]\n"
     ]
    },
    {
     "name": "stdout",
     "output_type": "stream",
     "text": [
      "at epoch 6, val_ap: 0.5079895226880342\n"
     ]
    },
    {
     "name": "stderr",
     "output_type": "stream",
     "text": [
      "100%|██████████| 17/17 [00:44<00:00,  2.63s/it]\n",
      "100%|██████████| 350/350 [00:16<00:00, 20.74it/s]\n"
     ]
    },
    {
     "name": "stdout",
     "output_type": "stream",
     "text": [
      "at epoch 7, val_ap: 0.5262472411834346\n",
      "new max_val_ap\n"
     ]
    },
    {
     "name": "stderr",
     "output_type": "stream",
     "text": [
      "100%|██████████| 17/17 [00:45<00:00,  2.66s/it]\n",
      "100%|██████████| 350/350 [00:16<00:00, 20.87it/s]\n"
     ]
    },
    {
     "name": "stdout",
     "output_type": "stream",
     "text": [
      "at epoch 8, val_ap: 0.5063417513169558\n"
     ]
    },
    {
     "name": "stderr",
     "output_type": "stream",
     "text": [
      "100%|██████████| 17/17 [00:44<00:00,  2.63s/it]\n",
      "100%|██████████| 350/350 [00:16<00:00, 20.68it/s]\n"
     ]
    },
    {
     "name": "stdout",
     "output_type": "stream",
     "text": [
      "at epoch 9, val_ap: 0.5255746933642406\n"
     ]
    },
    {
     "name": "stderr",
     "output_type": "stream",
     "text": [
      "100%|██████████| 17/17 [00:44<00:00,  2.60s/it]\n",
      "100%|██████████| 350/350 [00:16<00:00, 20.74it/s]\n"
     ]
    },
    {
     "name": "stdout",
     "output_type": "stream",
     "text": [
      "at epoch 10, val_ap: 0.5111350700654942\n"
     ]
    },
    {
     "name": "stderr",
     "output_type": "stream",
     "text": [
      "100%|██████████| 17/17 [00:44<00:00,  2.64s/it]\n",
      "100%|██████████| 350/350 [00:17<00:00, 20.26it/s]\n"
     ]
    },
    {
     "name": "stdout",
     "output_type": "stream",
     "text": [
      "at epoch 11, val_ap: 0.5152949174509216\n"
     ]
    },
    {
     "name": "stderr",
     "output_type": "stream",
     "text": [
      "100%|██████████| 17/17 [00:43<00:00,  2.56s/it]\n",
      "100%|██████████| 350/350 [00:17<00:00, 20.13it/s]\n"
     ]
    },
    {
     "name": "stdout",
     "output_type": "stream",
     "text": [
      "at epoch 12, val_ap: 0.507355661455027\n"
     ]
    },
    {
     "data": {
      "image/png": "[encoded data removed]",
      "text/plain": [
       "<Figure size 640x480 with 2 Axes>"
      ]
     },
     "metadata": {},
     "output_type": "display_data"
    },
    {
     "name": "stdout",
     "output_type": "stream",
     "text": [
      "val_aps: [0.514569200234578, 0.5238608173961662, 0.5039349310161518, 0.4995545570593562, 0.4976457216052092, 0.49736436671457157, 0.5079895226880342, 0.5262472411834346, 0.5063417513169558, 0.5255746933642406, 0.5111350700654942, 0.5152949174509216, 0.507355661455027]\n",
      "avg_losses: [1.9588118160472197, 1.7404782281202429, 1.6767086702234604, 1.633061927907607, 1.6050938367843628, 1.563221672002007, 1.2779322231517118, 1.2300698546802296, 1.195453173973981, 1.180695470641641, 1.1598076750250423, 1.1426340131198658, 1.1207261926987593]\n"
     ]
    }
   ],
   "source": [
    "final_val_aps, model_sizes = run_taylor_pruning(\n",
    "    device, \n",
    "    train_loader, \n",
    "    val_loader, \n",
    "    num_of_iterations=10, \n",
    "    multiplier=10, \n",
    "    num_epochs=13,\n",
    "    lr=0.0001,\n",
    "    save_dir=\"./runs/taylor2\",\n",
    "    initial_load_path=\"./runs/voc_person_only.pt\",\n",
    ")"
   ]
  }
 ],
 "metadata": {
  "kernelspec": {
   "display_name": "torch-directml",
   "language": "python",
   "name": "python3"
  },
  "language_info": {
   "codemirror_mode": {
    "name": "ipython",
    "version": 3
   },
   "file_extension": ".py",
   "mimetype": "text/x-python",
   "name": "python",
   "nbconvert_exporter": "python",
   "pygments_lexer": "ipython3",
   "version": "3.8.18"
  }
 },
 "nbformat": 4,
 "nbformat_minor": 2
}
