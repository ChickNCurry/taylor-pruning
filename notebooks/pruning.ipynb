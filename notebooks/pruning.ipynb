{
 "cells": [
  {
   "cell_type": "code",
   "execution_count": 1,
   "id": "b15d688d-c809-4605-ad91-9e1ca64f1f9b",
   "metadata": {},
   "outputs": [
    {
     "name": "stdout",
     "output_type": "stream",
     "text": [
      "/home/chickencurry/emb-ml-challenge\n"
     ]
    }
   ],
   "source": [
    "%cd .."
   ]
  },
  {
   "cell_type": "code",
   "execution_count": 2,
   "id": "5c477a32-e9e8-4394-b182-296c64fc141c",
   "metadata": {},
   "outputs": [],
   "source": [
    "import tqdm\n",
    "import copy\n",
    "import torch\n",
    "from typing import Dict, List\n",
    "import numpy as np\n",
    "from utils.tinyyolov2 import TinyYoloV2Pruned\n",
    "from utils.loss import YoloLoss\n",
    "from utils.dataloader import VOCDataLoaderPerson\n",
    "from utils.ap import precision_recall_levels, ap, display_roc\n",
    "from utils.yolo import nms, filter_boxes\n",
    "from utils.utils import net_acc, net_time, net_macs, plot"
   ]
  },
  {
   "cell_type": "code",
   "execution_count": 3,
   "id": "b0b25308-06de-417e-b4c3-7bb167f4964a",
   "metadata": {},
   "outputs": [
    {
     "name": "stdout",
     "output_type": "stream",
     "text": [
      "cpu\n"
     ]
    }
   ],
   "source": [
    "device = torch.device('cuda' if torch.cuda.is_available() else 'cpu')\n",
    "print(device)"
   ]
  },
  {
   "cell_type": "code",
   "execution_count": 4,
   "id": "4f592af4",
   "metadata": {},
   "outputs": [
    {
     "name": "stdout",
     "output_type": "stream",
     "text": [
      "privateuseone:0\n"
     ]
    }
   ],
   "source": [
    "import torch_directml\n",
    "device = torch_directml.device()\n",
    "print(device)"
   ]
  },
  {
   "cell_type": "code",
   "execution_count": 5,
   "id": "dde65ab8-9997-4494-a93d-65d3e95fd80b",
   "metadata": {},
   "outputs": [],
   "source": [
    "def l1_structured_pruning(state_dict: Dict, prune_ratio: float, ignored_n: List[int]) -> Dict:\n",
    "    state_dict = copy.deepcopy(state_dict)\n",
    "\n",
    "    mask_dict = {}\n",
    "    \n",
    "    for key, value in state_dict.items():\n",
    "        n = key.split(\".\")[0][-1]  \n",
    "        n = int(n) if n.isdigit() else None\n",
    "\n",
    "        if n is None or n in ignored_n:\n",
    "            continue\n",
    "        \n",
    "        if \"conv\" in key and \"weight\" in key:\n",
    "            norms = value.flatten(1).norm(p=1, dim=1)\n",
    "            percentile = np.percentile(norms, prune_ratio * 100)\n",
    "            mask = (norms >= percentile)\n",
    "            state_dict[key] = value * mask[:, None, None, None]\n",
    "            mask_dict[n] = mask\n",
    "\n",
    "    for n in range(1, 9):\n",
    "        if n in ignored_n:\n",
    "            continue\n",
    "        \n",
    "        keys = [f\"bn{n}.weight\", f\"bn{n}.bias\", f\"bn{n}.running_mean\", f\"bn{n}.running_var\"]\n",
    "        for key in keys:\n",
    "            state_dict[key] = state_dict[key] * mask_dict[n]\n",
    "    \n",
    "    return state_dict"
   ]
  },
  {
   "cell_type": "code",
   "execution_count": 6,
   "id": "9560ab7a-5781-4285-a2de-b324f4927d01",
   "metadata": {},
   "outputs": [],
   "source": [
    "def densify_state_dict(state_dict: Dict) -> Dict:\n",
    "    state_dict = copy.deepcopy(state_dict)\n",
    "    \n",
    "    indices_dict = {}\n",
    "    \n",
    "    for key, value in state_dict.items():\n",
    "        if \"conv\" in key and \"weight\" in key:\n",
    "\n",
    "            n = key.split(\".\")[0][-1]  \n",
    "            n = int(n) if n.isdigit() else None\n",
    "\n",
    "            if n is not None and n-1 in indices_dict:\n",
    "                value = value[:, indices_dict[n-1], :, :]\n",
    "                \n",
    "            summed = value.flatten(1).abs().sum(1)\n",
    "            indices = summed.nonzero().flatten()\n",
    "            value = value[indices, :, :, :]\n",
    "            state_dict[key] = value\n",
    "\n",
    "            indices_dict[n] = indices\n",
    "        \n",
    "        elif \"bn\" in key and \"num_batches_tracked\" not in key:\n",
    "            indices = value.nonzero().flatten()\n",
    "            value = value[indices]\n",
    "            state_dict[key] = value\n",
    "    \n",
    "    return state_dict"
   ]
  },
  {
   "cell_type": "code",
   "execution_count": 7,
   "id": "3224241c-c40b-463d-86f6-3251a71e0488",
   "metadata": {},
   "outputs": [],
   "source": [
    "ratio = 0.3\n",
    "state_dict = torch.load('./runs/voc_person_only.pt')\n",
    "state_dict = l1_structured_pruning(state_dict, ratio, [9])\n",
    "state_dict = densify_state_dict(state_dict)"
   ]
  },
  {
   "cell_type": "code",
   "execution_count": 8,
   "id": "3cb97f5b",
   "metadata": {},
   "outputs": [
    {
     "data": {
      "text/plain": [
       "TinyYoloV2Pruned(\n",
       "  (pad): ReflectionPad2d((0, 1, 0, 1))\n",
       "  (conv1): Conv2d(3, 11, kernel_size=(3, 3), stride=(1, 1), padding=(1, 1), bias=False)\n",
       "  (bn1): BatchNorm2d(11, eps=1e-05, momentum=0.1, affine=True, track_running_stats=True)\n",
       "  (conv2): Conv2d(11, 22, kernel_size=(3, 3), stride=(1, 1), padding=(1, 1), bias=False)\n",
       "  (bn2): BatchNorm2d(22, eps=1e-05, momentum=0.1, affine=True, track_running_stats=True)\n",
       "  (conv3): Conv2d(22, 45, kernel_size=(3, 3), stride=(1, 1), padding=(1, 1), bias=False)\n",
       "  (bn3): BatchNorm2d(45, eps=1e-05, momentum=0.1, affine=True, track_running_stats=True)\n",
       "  (conv4): Conv2d(45, 89, kernel_size=(3, 3), stride=(1, 1), padding=(1, 1), bias=False)\n",
       "  (bn4): BatchNorm2d(89, eps=1e-05, momentum=0.1, affine=True, track_running_stats=True)\n",
       "  (conv5): Conv2d(89, 179, kernel_size=(3, 3), stride=(1, 1), padding=(1, 1), bias=False)\n",
       "  (bn5): BatchNorm2d(179, eps=1e-05, momentum=0.1, affine=True, track_running_stats=True)\n",
       "  (conv6): Conv2d(179, 358, kernel_size=(3, 3), stride=(1, 1), padding=(1, 1), bias=False)\n",
       "  (bn6): BatchNorm2d(358, eps=1e-05, momentum=0.1, affine=True, track_running_stats=True)\n",
       "  (conv7): Conv2d(358, 717, kernel_size=(3, 3), stride=(1, 1), padding=(1, 1), bias=False)\n",
       "  (bn7): BatchNorm2d(717, eps=1e-05, momentum=0.1, affine=True, track_running_stats=True)\n",
       "  (conv8): Conv2d(717, 717, kernel_size=(3, 3), stride=(1, 1), padding=(1, 1), bias=False)\n",
       "  (bn8): BatchNorm2d(717, eps=1e-05, momentum=0.1, affine=True, track_running_stats=True)\n",
       "  (conv9): Conv2d(717, 30, kernel_size=(1, 1), stride=(1, 1))\n",
       ")"
      ]
     },
     "execution_count": 8,
     "metadata": {},
     "output_type": "execute_result"
    }
   ],
   "source": [
    "net = TinyYoloV2Pruned(num_classes=1)\n",
    "net.load_state_dict(state_dict, strict=False)\n",
    "net = net.to(device)\n",
    "net.eval()"
   ]
  },
  {
   "cell_type": "code",
   "execution_count": 9,
   "id": "ac77d973-ff67-4cb8-8b82-ff18c8b4572f",
   "metadata": {},
   "outputs": [],
   "source": [
    "loader_test = VOCDataLoaderPerson(train=False, batch_size=1)"
   ]
  },
  {
   "cell_type": "code",
   "execution_count": 11,
   "id": "77531fd7",
   "metadata": {},
   "outputs": [
    {
     "name": "stderr",
     "output_type": "stream",
     "text": [
      "100%|██████████| 350/350 [00:30<00:00, 11.46it/s]\n"
     ]
    },
    {
     "data": {
      "image/png": "[encoded data removed]",
      "text/plain": [
       "<Figure size 640x480 with 1 Axes>"
      ]
     },
     "metadata": {},
     "output_type": "display_data"
    }
   ],
   "source": [
    "NUM_TEST_SAMPLES = 350\n",
    "\n",
    "test_precision = []\n",
    "test_recall = []\n",
    "\n",
    "with torch.no_grad():\n",
    "    for idx, (input, target) in tqdm.tqdm(enumerate(loader_test), total=NUM_TEST_SAMPLES):\n",
    "        input = input.to(device)\n",
    "        output = net(input).cpu()\n",
    "\n",
    "        #The right threshold values can be adjusted for the target application\n",
    "        output = filter_boxes(output, 0.0)\n",
    "        output = nms(output, 0.5)\n",
    "\n",
    "        precision, recall = precision_recall_levels(target[0], output[0])\n",
    "        test_precision.append(precision)\n",
    "        test_recall.append(recall)\n",
    "\n",
    "        if idx == NUM_TEST_SAMPLES:\n",
    "            break\n",
    "\n",
    "#plot ROC\n",
    "display_roc(test_precision, test_recall)"
   ]
  },
  {
   "cell_type": "code",
   "execution_count": 13,
   "id": "db0ac93c-d102-41a1-9fe1-1941921cda59",
   "metadata": {},
   "outputs": [],
   "source": [
    "torch.save(net.state_dict(), \"runs/voc_person_only_pruned.pt\")"
   ]
  }
 ],
 "metadata": {
  "kernelspec": {
   "display_name": "Python 3",
   "language": "python",
   "name": "python3"
  },
  "language_info": {
   "codemirror_mode": {
    "name": "ipython",
    "version": 3
   },
   "file_extension": ".py",
   "mimetype": "text/x-python",
   "name": "python",
   "nbconvert_exporter": "python",
   "pygments_lexer": "ipython3",
   "version": "3.8.-1"
  }
 },
 "nbformat": 4,
 "nbformat_minor": 5
}
